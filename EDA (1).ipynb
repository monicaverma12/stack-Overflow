{
 "cells": [
  {
   "cell_type": "code",
   "execution_count": 1,
   "metadata": {
    "id": "n9bLBer0hng_"
   },
   "outputs": [],
   "source": [
    "#Import the required Libraries.\n",
    "import pandas as pd\n",
    "import numpy as np\n",
    "import seaborn as sns                       #visualisation\n",
    "import matplotlib.pyplot as plt             #visualisation\n",
    "%matplotlib inline     \n",
    "sns.set(color_codes=True)"
   ]
  },
  {
   "cell_type": "code",
   "execution_count": 3,
   "metadata": {
    "colab": {
     "base_uri": "https://localhost:8080/",
     "height": 195
    },
    "id": "wgNJKFtRhrJN",
    "outputId": "bd21793e-1826-4216-ce0a-e156db7ce754"
   },
   "outputs": [
    {
     "data": {
      "text/html": [
       "<div>\n",
       "<style scoped>\n",
       "    .dataframe tbody tr th:only-of-type {\n",
       "        vertical-align: middle;\n",
       "    }\n",
       "\n",
       "    .dataframe tbody tr th {\n",
       "        vertical-align: top;\n",
       "    }\n",
       "\n",
       "    .dataframe thead th {\n",
       "        text-align: right;\n",
       "    }\n",
       "</style>\n",
       "<table border=\"1\" class=\"dataframe\">\n",
       "  <thead>\n",
       "    <tr style=\"text-align: right;\">\n",
       "      <th></th>\n",
       "      <th>Id</th>\n",
       "      <th>OwnerUserId</th>\n",
       "      <th>CreationDate</th>\n",
       "      <th>ClosedDate</th>\n",
       "      <th>Score</th>\n",
       "      <th>Title</th>\n",
       "      <th>Body</th>\n",
       "    </tr>\n",
       "  </thead>\n",
       "  <tbody>\n",
       "    <tr>\n",
       "      <th>0</th>\n",
       "      <td>80</td>\n",
       "      <td>26.0</td>\n",
       "      <td>2008-08-01T13:57:07Z</td>\n",
       "      <td>NaN</td>\n",
       "      <td>26</td>\n",
       "      <td>SQLStatement.execute() - multiple queries in o...</td>\n",
       "      <td>&lt;p&gt;I've written a database generation script i...</td>\n",
       "    </tr>\n",
       "    <tr>\n",
       "      <th>1</th>\n",
       "      <td>90</td>\n",
       "      <td>58.0</td>\n",
       "      <td>2008-08-01T14:41:24Z</td>\n",
       "      <td>2012-12-26T03:45:49Z</td>\n",
       "      <td>144</td>\n",
       "      <td>Good branching and merging tutorials for Torto...</td>\n",
       "      <td>&lt;p&gt;Are there any really good tutorials explain...</td>\n",
       "    </tr>\n",
       "    <tr>\n",
       "      <th>2</th>\n",
       "      <td>120</td>\n",
       "      <td>83.0</td>\n",
       "      <td>2008-08-01T15:50:08Z</td>\n",
       "      <td>NaN</td>\n",
       "      <td>21</td>\n",
       "      <td>ASP.NET Site Maps</td>\n",
       "      <td>&lt;p&gt;Has anyone got experience creating &lt;strong&gt;...</td>\n",
       "    </tr>\n",
       "    <tr>\n",
       "      <th>3</th>\n",
       "      <td>180</td>\n",
       "      <td>2089740.0</td>\n",
       "      <td>2008-08-01T18:42:19Z</td>\n",
       "      <td>NaN</td>\n",
       "      <td>53</td>\n",
       "      <td>Function for creating color wheels</td>\n",
       "      <td>&lt;p&gt;This is something I've pseudo-solved many t...</td>\n",
       "    </tr>\n",
       "    <tr>\n",
       "      <th>4</th>\n",
       "      <td>260</td>\n",
       "      <td>91.0</td>\n",
       "      <td>2008-08-01T23:22:08Z</td>\n",
       "      <td>NaN</td>\n",
       "      <td>49</td>\n",
       "      <td>Adding scripting functionality to .NET applica...</td>\n",
       "      <td>&lt;p&gt;I have a little game written in C#. It uses...</td>\n",
       "    </tr>\n",
       "  </tbody>\n",
       "</table>\n",
       "</div>"
      ],
      "text/plain": [
       "    Id  OwnerUserId          CreationDate            ClosedDate  Score  \\\n",
       "0   80         26.0  2008-08-01T13:57:07Z                   NaN     26   \n",
       "1   90         58.0  2008-08-01T14:41:24Z  2012-12-26T03:45:49Z    144   \n",
       "2  120         83.0  2008-08-01T15:50:08Z                   NaN     21   \n",
       "3  180    2089740.0  2008-08-01T18:42:19Z                   NaN     53   \n",
       "4  260         91.0  2008-08-01T23:22:08Z                   NaN     49   \n",
       "\n",
       "                                               Title  \\\n",
       "0  SQLStatement.execute() - multiple queries in o...   \n",
       "1  Good branching and merging tutorials for Torto...   \n",
       "2                                  ASP.NET Site Maps   \n",
       "3                 Function for creating color wheels   \n",
       "4  Adding scripting functionality to .NET applica...   \n",
       "\n",
       "                                                Body  \n",
       "0  <p>I've written a database generation script i...  \n",
       "1  <p>Are there any really good tutorials explain...  \n",
       "2  <p>Has anyone got experience creating <strong>...  \n",
       "3  <p>This is something I've pseudo-solved many t...  \n",
       "4  <p>I have a little game written in C#. It uses...  "
      ]
     },
     "execution_count": 3,
     "metadata": {},
     "output_type": "execute_result"
    }
   ],
   "source": [
    "que = pd.read_csv(\"https://stack-overflow-casestudy-datasets.s3.amazonaws.com/Questions.csv\", encoding='latin1')\n",
    "que.head()"
   ]
  },
  {
   "cell_type": "code",
   "execution_count": 4,
   "metadata": {
    "colab": {
     "base_uri": "https://localhost:8080/",
     "height": 195
    },
    "id": "O9Il_l0kiG8H",
    "outputId": "0d95659a-9312-4cb1-cd3e-99bcd096e2c3"
   },
   "outputs": [
    {
     "data": {
      "text/html": [
       "<div>\n",
       "<style scoped>\n",
       "    .dataframe tbody tr th:only-of-type {\n",
       "        vertical-align: middle;\n",
       "    }\n",
       "\n",
       "    .dataframe tbody tr th {\n",
       "        vertical-align: top;\n",
       "    }\n",
       "\n",
       "    .dataframe thead th {\n",
       "        text-align: right;\n",
       "    }\n",
       "</style>\n",
       "<table border=\"1\" class=\"dataframe\">\n",
       "  <thead>\n",
       "    <tr style=\"text-align: right;\">\n",
       "      <th></th>\n",
       "      <th>Id</th>\n",
       "      <th>OwnerUserId</th>\n",
       "      <th>CreationDate</th>\n",
       "      <th>ParentId</th>\n",
       "      <th>Score</th>\n",
       "      <th>Body</th>\n",
       "    </tr>\n",
       "  </thead>\n",
       "  <tbody>\n",
       "    <tr>\n",
       "      <th>0</th>\n",
       "      <td>92</td>\n",
       "      <td>61.0</td>\n",
       "      <td>2008-08-01T14:45:37Z</td>\n",
       "      <td>90</td>\n",
       "      <td>13</td>\n",
       "      <td>&lt;p&gt;&lt;a href=\"http://svnbook.red-bean.com/\"&gt;Vers...</td>\n",
       "    </tr>\n",
       "    <tr>\n",
       "      <th>1</th>\n",
       "      <td>124</td>\n",
       "      <td>26.0</td>\n",
       "      <td>2008-08-01T16:09:47Z</td>\n",
       "      <td>80</td>\n",
       "      <td>12</td>\n",
       "      <td>&lt;p&gt;I wound up using this. It is a kind of a ha...</td>\n",
       "    </tr>\n",
       "    <tr>\n",
       "      <th>2</th>\n",
       "      <td>199</td>\n",
       "      <td>50.0</td>\n",
       "      <td>2008-08-01T19:36:46Z</td>\n",
       "      <td>180</td>\n",
       "      <td>1</td>\n",
       "      <td>&lt;p&gt;I've read somewhere the human eye can't dis...</td>\n",
       "    </tr>\n",
       "    <tr>\n",
       "      <th>3</th>\n",
       "      <td>269</td>\n",
       "      <td>91.0</td>\n",
       "      <td>2008-08-01T23:49:57Z</td>\n",
       "      <td>260</td>\n",
       "      <td>4</td>\n",
       "      <td>&lt;p&gt;Yes, I thought about that, but I soon figur...</td>\n",
       "    </tr>\n",
       "    <tr>\n",
       "      <th>4</th>\n",
       "      <td>307</td>\n",
       "      <td>49.0</td>\n",
       "      <td>2008-08-02T01:49:46Z</td>\n",
       "      <td>260</td>\n",
       "      <td>28</td>\n",
       "      <td>&lt;p&gt;&lt;a href=\"http://www.codeproject.com/Article...</td>\n",
       "    </tr>\n",
       "  </tbody>\n",
       "</table>\n",
       "</div>"
      ],
      "text/plain": [
       "    Id  OwnerUserId          CreationDate  ParentId  Score  \\\n",
       "0   92         61.0  2008-08-01T14:45:37Z        90     13   \n",
       "1  124         26.0  2008-08-01T16:09:47Z        80     12   \n",
       "2  199         50.0  2008-08-01T19:36:46Z       180      1   \n",
       "3  269         91.0  2008-08-01T23:49:57Z       260      4   \n",
       "4  307         49.0  2008-08-02T01:49:46Z       260     28   \n",
       "\n",
       "                                                Body  \n",
       "0  <p><a href=\"http://svnbook.red-bean.com/\">Vers...  \n",
       "1  <p>I wound up using this. It is a kind of a ha...  \n",
       "2  <p>I've read somewhere the human eye can't dis...  \n",
       "3  <p>Yes, I thought about that, but I soon figur...  \n",
       "4  <p><a href=\"http://www.codeproject.com/Article...  "
      ]
     },
     "execution_count": 4,
     "metadata": {},
     "output_type": "execute_result"
    }
   ],
   "source": [
    "ans = pd.read_csv(\"https://stack-overflow-casestudy-datasets.s3.amazonaws.com/Answers.csv\", encoding='latin1')\n",
    "ans.head()"
   ]
  },
  {
   "cell_type": "code",
   "execution_count": 5,
   "metadata": {
    "colab": {
     "base_uri": "https://localhost:8080/",
     "height": 195
    },
    "id": "HuJ3VLXtiY0c",
    "outputId": "2a0677ea-13e0-49f3-93ba-e984fcad89c7"
   },
   "outputs": [
    {
     "data": {
      "text/html": [
       "<div>\n",
       "<style scoped>\n",
       "    .dataframe tbody tr th:only-of-type {\n",
       "        vertical-align: middle;\n",
       "    }\n",
       "\n",
       "    .dataframe tbody tr th {\n",
       "        vertical-align: top;\n",
       "    }\n",
       "\n",
       "    .dataframe thead th {\n",
       "        text-align: right;\n",
       "    }\n",
       "</style>\n",
       "<table border=\"1\" class=\"dataframe\">\n",
       "  <thead>\n",
       "    <tr style=\"text-align: right;\">\n",
       "      <th></th>\n",
       "      <th>Id</th>\n",
       "      <th>Tag</th>\n",
       "    </tr>\n",
       "  </thead>\n",
       "  <tbody>\n",
       "    <tr>\n",
       "      <th>0</th>\n",
       "      <td>80</td>\n",
       "      <td>flex</td>\n",
       "    </tr>\n",
       "    <tr>\n",
       "      <th>1</th>\n",
       "      <td>80</td>\n",
       "      <td>actionscript-3</td>\n",
       "    </tr>\n",
       "    <tr>\n",
       "      <th>2</th>\n",
       "      <td>80</td>\n",
       "      <td>air</td>\n",
       "    </tr>\n",
       "    <tr>\n",
       "      <th>3</th>\n",
       "      <td>90</td>\n",
       "      <td>svn</td>\n",
       "    </tr>\n",
       "    <tr>\n",
       "      <th>4</th>\n",
       "      <td>90</td>\n",
       "      <td>tortoisesvn</td>\n",
       "    </tr>\n",
       "  </tbody>\n",
       "</table>\n",
       "</div>"
      ],
      "text/plain": [
       "   Id             Tag\n",
       "0  80            flex\n",
       "1  80  actionscript-3\n",
       "2  80             air\n",
       "3  90             svn\n",
       "4  90     tortoisesvn"
      ]
     },
     "execution_count": 5,
     "metadata": {},
     "output_type": "execute_result"
    }
   ],
   "source": [
    "tags = pd.read_csv(\"https://stack-overflow-casestudy-datasets.s3.amazonaws.com/Tags.csv\", encoding='latin1')\n",
    "tags.head()"
   ]
  },
  {
   "cell_type": "code",
   "execution_count": 6,
   "metadata": {
    "colab": {
     "base_uri": "https://localhost:8080/",
     "height": 195
    },
    "id": "23FYLbMbigtx",
    "outputId": "9e95dee1-0214-4d56-ed6a-e5cf16a199b2"
   },
   "outputs": [
    {
     "data": {
      "text/html": [
       "<div>\n",
       "<style scoped>\n",
       "    .dataframe tbody tr th:only-of-type {\n",
       "        vertical-align: middle;\n",
       "    }\n",
       "\n",
       "    .dataframe tbody tr th {\n",
       "        vertical-align: top;\n",
       "    }\n",
       "\n",
       "    .dataframe thead th {\n",
       "        text-align: right;\n",
       "    }\n",
       "</style>\n",
       "<table border=\"1\" class=\"dataframe\">\n",
       "  <thead>\n",
       "    <tr style=\"text-align: right;\">\n",
       "      <th></th>\n",
       "      <th>Unnamed: 0</th>\n",
       "      <th>id</th>\n",
       "      <th>display_name</th>\n",
       "      <th>creation_date</th>\n",
       "      <th>last_access_date</th>\n",
       "      <th>reputation</th>\n",
       "      <th>up_votes</th>\n",
       "      <th>down_votes</th>\n",
       "      <th>views</th>\n",
       "    </tr>\n",
       "  </thead>\n",
       "  <tbody>\n",
       "    <tr>\n",
       "      <th>0</th>\n",
       "      <td>0</td>\n",
       "      <td>26</td>\n",
       "      <td>Shawn</td>\n",
       "      <td>2008-08-01 12:18:14.52 UTC</td>\n",
       "      <td>2018-04-11 04:40:35.66 UTC</td>\n",
       "      <td>11820</td>\n",
       "      <td>565</td>\n",
       "      <td>67</td>\n",
       "      <td>3547</td>\n",
       "    </tr>\n",
       "    <tr>\n",
       "      <th>1</th>\n",
       "      <td>1</td>\n",
       "      <td>26</td>\n",
       "      <td>Shawn</td>\n",
       "      <td>2008-08-01 12:18:14.52 UTC</td>\n",
       "      <td>2018-04-11 04:40:35.66 UTC</td>\n",
       "      <td>11820</td>\n",
       "      <td>565</td>\n",
       "      <td>67</td>\n",
       "      <td>3547</td>\n",
       "    </tr>\n",
       "    <tr>\n",
       "      <th>2</th>\n",
       "      <td>2</td>\n",
       "      <td>26</td>\n",
       "      <td>Shawn</td>\n",
       "      <td>2008-08-01 12:18:14.52 UTC</td>\n",
       "      <td>2018-04-11 04:40:35.66 UTC</td>\n",
       "      <td>11820</td>\n",
       "      <td>565</td>\n",
       "      <td>67</td>\n",
       "      <td>3547</td>\n",
       "    </tr>\n",
       "    <tr>\n",
       "      <th>3</th>\n",
       "      <td>3</td>\n",
       "      <td>26</td>\n",
       "      <td>Shawn</td>\n",
       "      <td>2008-08-01 12:18:14.52 UTC</td>\n",
       "      <td>2018-04-11 04:40:35.66 UTC</td>\n",
       "      <td>11820</td>\n",
       "      <td>565</td>\n",
       "      <td>67</td>\n",
       "      <td>3547</td>\n",
       "    </tr>\n",
       "    <tr>\n",
       "      <th>4</th>\n",
       "      <td>4</td>\n",
       "      <td>26</td>\n",
       "      <td>Shawn</td>\n",
       "      <td>2008-08-01 12:18:14.52 UTC</td>\n",
       "      <td>2018-04-11 04:40:35.66 UTC</td>\n",
       "      <td>11820</td>\n",
       "      <td>565</td>\n",
       "      <td>67</td>\n",
       "      <td>3547</td>\n",
       "    </tr>\n",
       "  </tbody>\n",
       "</table>\n",
       "</div>"
      ],
      "text/plain": [
       "   Unnamed: 0  id display_name               creation_date  \\\n",
       "0           0  26        Shawn  2008-08-01 12:18:14.52 UTC   \n",
       "1           1  26        Shawn  2008-08-01 12:18:14.52 UTC   \n",
       "2           2  26        Shawn  2008-08-01 12:18:14.52 UTC   \n",
       "3           3  26        Shawn  2008-08-01 12:18:14.52 UTC   \n",
       "4           4  26        Shawn  2008-08-01 12:18:14.52 UTC   \n",
       "\n",
       "             last_access_date  reputation  up_votes  down_votes  views  \n",
       "0  2018-04-11 04:40:35.66 UTC       11820       565          67   3547  \n",
       "1  2018-04-11 04:40:35.66 UTC       11820       565          67   3547  \n",
       "2  2018-04-11 04:40:35.66 UTC       11820       565          67   3547  \n",
       "3  2018-04-11 04:40:35.66 UTC       11820       565          67   3547  \n",
       "4  2018-04-11 04:40:35.66 UTC       11820       565          67   3547  "
      ]
     },
     "execution_count": 6,
     "metadata": {},
     "output_type": "execute_result"
    }
   ],
   "source": [
    "user = pd.read_csv(\"https://stack-overflow-casestudy-datasets.s3.amazonaws.com/Users.csv\", encoding='latin1')\n",
    "user.head()"
   ]
  },
  {
   "cell_type": "code",
   "execution_count": 7,
   "metadata": {
    "id": "lyCYVw9eiqZl"
   },
   "outputs": [],
   "source": [
    "user = user.drop_duplicates(subset=['id'])"
   ]
  },
  {
   "cell_type": "code",
   "execution_count": 8,
   "metadata": {
    "id": "MNxS4yR7iwvd"
   },
   "outputs": [],
   "source": [
    "que = que.drop_duplicates(subset=['Id'])"
   ]
  },
  {
   "cell_type": "code",
   "execution_count": 9,
   "metadata": {
    "id": "TBhQr452i7Ik"
   },
   "outputs": [],
   "source": [
    "ans = ans.drop_duplicates(subset=['Id'])"
   ]
  },
  {
   "cell_type": "code",
   "execution_count": 10,
   "metadata": {
    "colab": {
     "base_uri": "https://localhost:8080/",
     "height": 195
    },
    "id": "t7nojByKi-nm",
    "outputId": "b00e99cf-4b88-4d91-a937-c4b14c9e485a"
   },
   "outputs": [
    {
     "data": {
      "text/html": [
       "<div>\n",
       "<style scoped>\n",
       "    .dataframe tbody tr th:only-of-type {\n",
       "        vertical-align: middle;\n",
       "    }\n",
       "\n",
       "    .dataframe tbody tr th {\n",
       "        vertical-align: top;\n",
       "    }\n",
       "\n",
       "    .dataframe thead th {\n",
       "        text-align: right;\n",
       "    }\n",
       "</style>\n",
       "<table border=\"1\" class=\"dataframe\">\n",
       "  <thead>\n",
       "    <tr style=\"text-align: right;\">\n",
       "      <th></th>\n",
       "      <th>Unnamed: 0</th>\n",
       "      <th>id</th>\n",
       "      <th>display_name</th>\n",
       "      <th>creation_date</th>\n",
       "      <th>last_access_date</th>\n",
       "      <th>reputation</th>\n",
       "      <th>up_votes</th>\n",
       "      <th>down_votes</th>\n",
       "      <th>views</th>\n",
       "    </tr>\n",
       "  </thead>\n",
       "  <tbody>\n",
       "    <tr>\n",
       "      <th>0</th>\n",
       "      <td>0</td>\n",
       "      <td>26</td>\n",
       "      <td>Shawn</td>\n",
       "      <td>2008-08-01 12:18:14.52 UTC</td>\n",
       "      <td>2018-04-11 04:40:35.66 UTC</td>\n",
       "      <td>11820</td>\n",
       "      <td>565</td>\n",
       "      <td>67</td>\n",
       "      <td>3547</td>\n",
       "    </tr>\n",
       "    <tr>\n",
       "      <th>27</th>\n",
       "      <td>27</td>\n",
       "      <td>1109</td>\n",
       "      <td>Theo</td>\n",
       "      <td>2008-08-12 12:16:58.61 UTC</td>\n",
       "      <td>2019-08-31 11:39:52.28 UTC</td>\n",
       "      <td>116072</td>\n",
       "      <td>457</td>\n",
       "      <td>136</td>\n",
       "      <td>6905</td>\n",
       "    </tr>\n",
       "    <tr>\n",
       "      <th>85</th>\n",
       "      <td>85</td>\n",
       "      <td>364174</td>\n",
       "      <td>stats</td>\n",
       "      <td>2010-06-11 03:34:57.137 UTC</td>\n",
       "      <td>2019-08-29 18:37:35.027 UTC</td>\n",
       "      <td>325</td>\n",
       "      <td>25</td>\n",
       "      <td>1</td>\n",
       "      <td>60</td>\n",
       "    </tr>\n",
       "    <tr>\n",
       "      <th>87</th>\n",
       "      <td>87</td>\n",
       "      <td>61</td>\n",
       "      <td>Bernard</td>\n",
       "      <td>2008-08-01 14:21:00.573 UTC</td>\n",
       "      <td>2019-08-30 07:11:58.297 UTC</td>\n",
       "      <td>22779</td>\n",
       "      <td>1321</td>\n",
       "      <td>219</td>\n",
       "      <td>1731</td>\n",
       "    </tr>\n",
       "    <tr>\n",
       "      <th>97</th>\n",
       "      <td>97</td>\n",
       "      <td>20709</td>\n",
       "      <td>Black Horus</td>\n",
       "      <td>2008-09-22 20:03:39.71 UTC</td>\n",
       "      <td>2019-09-01 01:17:38.133 UTC</td>\n",
       "      <td>978</td>\n",
       "      <td>73</td>\n",
       "      <td>2</td>\n",
       "      <td>96</td>\n",
       "    </tr>\n",
       "  </tbody>\n",
       "</table>\n",
       "</div>"
      ],
      "text/plain": [
       "    Unnamed: 0      id display_name                creation_date  \\\n",
       "0            0      26        Shawn   2008-08-01 12:18:14.52 UTC   \n",
       "27          27    1109         Theo   2008-08-12 12:16:58.61 UTC   \n",
       "85          85  364174        stats  2010-06-11 03:34:57.137 UTC   \n",
       "87          87      61      Bernard  2008-08-01 14:21:00.573 UTC   \n",
       "97          97   20709  Black Horus   2008-09-22 20:03:39.71 UTC   \n",
       "\n",
       "               last_access_date  reputation  up_votes  down_votes  views  \n",
       "0    2018-04-11 04:40:35.66 UTC       11820       565          67   3547  \n",
       "27   2019-08-31 11:39:52.28 UTC      116072       457         136   6905  \n",
       "85  2019-08-29 18:37:35.027 UTC         325        25           1     60  \n",
       "87  2019-08-30 07:11:58.297 UTC       22779      1321         219   1731  \n",
       "97  2019-09-01 01:17:38.133 UTC         978        73           2     96  "
      ]
     },
     "execution_count": 10,
     "metadata": {},
     "output_type": "execute_result"
    }
   ],
   "source": [
    "user.head()\n",
    "\n"
   ]
  },
  {
   "cell_type": "code",
   "execution_count": 11,
   "metadata": {
    "colab": {
     "base_uri": "https://localhost:8080/"
    },
    "id": "rbAYvqWwrURW",
    "outputId": "63626f00-7dc9-442a-d0d6-0b2a2f72cf2a"
   },
   "outputs": [
    {
     "data": {
      "text/plain": [
       "465460"
      ]
     },
     "execution_count": 11,
     "metadata": {},
     "output_type": "execute_result"
    }
   ],
   "source": [
    "len(user['creation_date'].str.contains(\"UTC\") )"
   ]
  },
  {
   "cell_type": "code",
   "execution_count": 12,
   "metadata": {
    "colab": {
     "base_uri": "https://localhost:8080/"
    },
    "id": "20-_ZauUrZYm",
    "outputId": "78fb3d6b-2590-4d74-a1d2-ea6cd1cab50d"
   },
   "outputs": [
    {
     "data": {
      "text/plain": [
       "(465460, 9)"
      ]
     },
     "execution_count": 12,
     "metadata": {},
     "output_type": "execute_result"
    }
   ],
   "source": [
    "user.shape"
   ]
  },
  {
   "cell_type": "code",
   "execution_count": 13,
   "metadata": {
    "colab": {
     "base_uri": "https://localhost:8080/"
    },
    "id": "aHFhNoW3B9if",
    "outputId": "43d6cf9a-c1ac-4e5f-d7cc-26e779c65188"
   },
   "outputs": [
    {
     "name": "stdout",
     "output_type": "stream",
     "text": [
      "<class 'pandas.core.frame.DataFrame'>\n",
      "Int64Index: 465460 entries, 0 to 1990479\n",
      "Data columns (total 9 columns):\n",
      " #   Column            Non-Null Count   Dtype \n",
      "---  ------            --------------   ----- \n",
      " 0   Unnamed: 0        465460 non-null  int64 \n",
      " 1   id                465460 non-null  int64 \n",
      " 2   display_name      465436 non-null  object\n",
      " 3   creation_date     465460 non-null  object\n",
      " 4   last_access_date  465460 non-null  object\n",
      " 5   reputation        465460 non-null  int64 \n",
      " 6   up_votes          465460 non-null  int64 \n",
      " 7   down_votes        465460 non-null  int64 \n",
      " 8   views             465460 non-null  int64 \n",
      "dtypes: int64(6), object(3)\n",
      "memory usage: 35.5+ MB\n"
     ]
    }
   ],
   "source": [
    "user.info()"
   ]
  },
  {
   "cell_type": "code",
   "execution_count": 14,
   "metadata": {
    "colab": {
     "base_uri": "https://localhost:8080/"
    },
    "id": "_861i1OkoZgJ",
    "outputId": "5438eb74-78d6-4202-88a5-c651dbf4a4d7"
   },
   "outputs": [
    {
     "name": "stdout",
     "output_type": "stream",
     "text": [
      "<class 'pandas.core.frame.DataFrame'>\n",
      "Int64Index: 465460 entries, 0 to 1990479\n",
      "Data columns (total 9 columns):\n",
      " #   Column            Non-Null Count   Dtype \n",
      "---  ------            --------------   ----- \n",
      " 0   Unnamed: 0        465460 non-null  int64 \n",
      " 1   id                465460 non-null  int64 \n",
      " 2   display_name      465436 non-null  object\n",
      " 3   creation_date     465460 non-null  object\n",
      " 4   last_access_date  465460 non-null  object\n",
      " 5   reputation        465460 non-null  int64 \n",
      " 6   up_votes          465460 non-null  int64 \n",
      " 7   down_votes        465460 non-null  int64 \n",
      " 8   views             465460 non-null  int64 \n",
      "dtypes: int64(6), object(3)\n",
      "memory usage: 35.5+ MB\n"
     ]
    }
   ],
   "source": [
    "user.info()"
   ]
  },
  {
   "cell_type": "code",
   "execution_count": 15,
   "metadata": {
    "id": "XQsqXuN_ogrl"
   },
   "outputs": [],
   "source": [
    "user.creation_date =user.creation_date.astype(\"datetime64\") \n",
    "user.last_access_date =user.last_access_date.astype(\"datetime64\") "
   ]
  },
  {
   "cell_type": "code",
   "execution_count": 16,
   "metadata": {
    "colab": {
     "base_uri": "https://localhost:8080/"
    },
    "id": "NyIW-nC8poMp",
    "outputId": "5242f5ee-49e5-4fd8-c745-bf5de8ed4bca"
   },
   "outputs": [
    {
     "name": "stdout",
     "output_type": "stream",
     "text": [
      "<class 'pandas.core.frame.DataFrame'>\n",
      "Int64Index: 465460 entries, 0 to 1990479\n",
      "Data columns (total 9 columns):\n",
      " #   Column            Non-Null Count   Dtype         \n",
      "---  ------            --------------   -----         \n",
      " 0   Unnamed: 0        465460 non-null  int64         \n",
      " 1   id                465460 non-null  int64         \n",
      " 2   display_name      465436 non-null  object        \n",
      " 3   creation_date     465460 non-null  datetime64[ns]\n",
      " 4   last_access_date  465460 non-null  datetime64[ns]\n",
      " 5   reputation        465460 non-null  int64         \n",
      " 6   up_votes          465460 non-null  int64         \n",
      " 7   down_votes        465460 non-null  int64         \n",
      " 8   views             465460 non-null  int64         \n",
      "dtypes: datetime64[ns](2), int64(6), object(1)\n",
      "memory usage: 35.5+ MB\n"
     ]
    }
   ],
   "source": [
    "user.info()"
   ]
  },
  {
   "cell_type": "code",
   "execution_count": 17,
   "metadata": {
    "id": "y4vUz-yeprsy"
   },
   "outputs": [],
   "source": [
    "user['cre_date'] = [d.date() for d in user['creation_date']]\n",
    "user['cre_time(UTC)'] = [d.time() for d in user['creation_date']]\n",
    "user['lastA_date'] = [d.date() for d in user['last_access_date']]\n",
    "user['LastA_time(UTC)'] = [d.time() for d in user['last_access_date']]\n"
   ]
  },
  {
   "cell_type": "code",
   "execution_count": 18,
   "metadata": {
    "colab": {
     "base_uri": "https://localhost:8080/",
     "height": 195
    },
    "id": "wbRutzLkpxS0",
    "outputId": "3d552ec4-5767-4877-e5c1-354a65c9852f"
   },
   "outputs": [
    {
     "data": {
      "text/html": [
       "<div>\n",
       "<style scoped>\n",
       "    .dataframe tbody tr th:only-of-type {\n",
       "        vertical-align: middle;\n",
       "    }\n",
       "\n",
       "    .dataframe tbody tr th {\n",
       "        vertical-align: top;\n",
       "    }\n",
       "\n",
       "    .dataframe thead th {\n",
       "        text-align: right;\n",
       "    }\n",
       "</style>\n",
       "<table border=\"1\" class=\"dataframe\">\n",
       "  <thead>\n",
       "    <tr style=\"text-align: right;\">\n",
       "      <th></th>\n",
       "      <th>Unnamed: 0</th>\n",
       "      <th>id</th>\n",
       "      <th>display_name</th>\n",
       "      <th>creation_date</th>\n",
       "      <th>last_access_date</th>\n",
       "      <th>reputation</th>\n",
       "      <th>up_votes</th>\n",
       "      <th>down_votes</th>\n",
       "      <th>views</th>\n",
       "      <th>cre_date</th>\n",
       "      <th>cre_time(UTC)</th>\n",
       "      <th>lastA_date</th>\n",
       "      <th>LastA_time(UTC)</th>\n",
       "    </tr>\n",
       "  </thead>\n",
       "  <tbody>\n",
       "    <tr>\n",
       "      <th>0</th>\n",
       "      <td>0</td>\n",
       "      <td>26</td>\n",
       "      <td>Shawn</td>\n",
       "      <td>2008-08-01 12:18:14.520</td>\n",
       "      <td>2018-04-11 04:40:35.660</td>\n",
       "      <td>11820</td>\n",
       "      <td>565</td>\n",
       "      <td>67</td>\n",
       "      <td>3547</td>\n",
       "      <td>2008-08-01</td>\n",
       "      <td>12:18:14.520000</td>\n",
       "      <td>2018-04-11</td>\n",
       "      <td>04:40:35.660000</td>\n",
       "    </tr>\n",
       "    <tr>\n",
       "      <th>27</th>\n",
       "      <td>27</td>\n",
       "      <td>1109</td>\n",
       "      <td>Theo</td>\n",
       "      <td>2008-08-12 12:16:58.610</td>\n",
       "      <td>2019-08-31 11:39:52.280</td>\n",
       "      <td>116072</td>\n",
       "      <td>457</td>\n",
       "      <td>136</td>\n",
       "      <td>6905</td>\n",
       "      <td>2008-08-12</td>\n",
       "      <td>12:16:58.610000</td>\n",
       "      <td>2019-08-31</td>\n",
       "      <td>11:39:52.280000</td>\n",
       "    </tr>\n",
       "    <tr>\n",
       "      <th>85</th>\n",
       "      <td>85</td>\n",
       "      <td>364174</td>\n",
       "      <td>stats</td>\n",
       "      <td>2010-06-11 03:34:57.137</td>\n",
       "      <td>2019-08-29 18:37:35.027</td>\n",
       "      <td>325</td>\n",
       "      <td>25</td>\n",
       "      <td>1</td>\n",
       "      <td>60</td>\n",
       "      <td>2010-06-11</td>\n",
       "      <td>03:34:57.137000</td>\n",
       "      <td>2019-08-29</td>\n",
       "      <td>18:37:35.027000</td>\n",
       "    </tr>\n",
       "    <tr>\n",
       "      <th>87</th>\n",
       "      <td>87</td>\n",
       "      <td>61</td>\n",
       "      <td>Bernard</td>\n",
       "      <td>2008-08-01 14:21:00.573</td>\n",
       "      <td>2019-08-30 07:11:58.297</td>\n",
       "      <td>22779</td>\n",
       "      <td>1321</td>\n",
       "      <td>219</td>\n",
       "      <td>1731</td>\n",
       "      <td>2008-08-01</td>\n",
       "      <td>14:21:00.573000</td>\n",
       "      <td>2019-08-30</td>\n",
       "      <td>07:11:58.297000</td>\n",
       "    </tr>\n",
       "    <tr>\n",
       "      <th>97</th>\n",
       "      <td>97</td>\n",
       "      <td>20709</td>\n",
       "      <td>Black Horus</td>\n",
       "      <td>2008-09-22 20:03:39.710</td>\n",
       "      <td>2019-09-01 01:17:38.133</td>\n",
       "      <td>978</td>\n",
       "      <td>73</td>\n",
       "      <td>2</td>\n",
       "      <td>96</td>\n",
       "      <td>2008-09-22</td>\n",
       "      <td>20:03:39.710000</td>\n",
       "      <td>2019-09-01</td>\n",
       "      <td>01:17:38.133000</td>\n",
       "    </tr>\n",
       "  </tbody>\n",
       "</table>\n",
       "</div>"
      ],
      "text/plain": [
       "    Unnamed: 0      id display_name           creation_date  \\\n",
       "0            0      26        Shawn 2008-08-01 12:18:14.520   \n",
       "27          27    1109         Theo 2008-08-12 12:16:58.610   \n",
       "85          85  364174        stats 2010-06-11 03:34:57.137   \n",
       "87          87      61      Bernard 2008-08-01 14:21:00.573   \n",
       "97          97   20709  Black Horus 2008-09-22 20:03:39.710   \n",
       "\n",
       "          last_access_date  reputation  up_votes  down_votes  views  \\\n",
       "0  2018-04-11 04:40:35.660       11820       565          67   3547   \n",
       "27 2019-08-31 11:39:52.280      116072       457         136   6905   \n",
       "85 2019-08-29 18:37:35.027         325        25           1     60   \n",
       "87 2019-08-30 07:11:58.297       22779      1321         219   1731   \n",
       "97 2019-09-01 01:17:38.133         978        73           2     96   \n",
       "\n",
       "      cre_date    cre_time(UTC)  lastA_date  LastA_time(UTC)  \n",
       "0   2008-08-01  12:18:14.520000  2018-04-11  04:40:35.660000  \n",
       "27  2008-08-12  12:16:58.610000  2019-08-31  11:39:52.280000  \n",
       "85  2010-06-11  03:34:57.137000  2019-08-29  18:37:35.027000  \n",
       "87  2008-08-01  14:21:00.573000  2019-08-30  07:11:58.297000  \n",
       "97  2008-09-22  20:03:39.710000  2019-09-01  01:17:38.133000  "
      ]
     },
     "execution_count": 18,
     "metadata": {},
     "output_type": "execute_result"
    }
   ],
   "source": [
    "user.head()"
   ]
  },
  {
   "cell_type": "code",
   "execution_count": 19,
   "metadata": {
    "id": "kwmqyPksq8iw"
   },
   "outputs": [],
   "source": [
    "tags = tags.drop_duplicates()"
   ]
  },
  {
   "cell_type": "code",
   "execution_count": 20,
   "metadata": {
    "colab": {
     "base_uri": "https://localhost:8080/"
    },
    "id": "3cD50ydIzc0D",
    "outputId": "7d720b2c-ba10-4f8d-ca58-2e2c93fe155c"
   },
   "outputs": [
    {
     "data": {
      "text/plain": [
       "Unnamed: 0          465460\n",
       "id                  465460\n",
       "display_name        465436\n",
       "creation_date       465460\n",
       "last_access_date    465460\n",
       "reputation          465460\n",
       "up_votes            465460\n",
       "down_votes          465460\n",
       "views               465460\n",
       "cre_date            465460\n",
       "cre_time(UTC)       465460\n",
       "lastA_date          465460\n",
       "LastA_time(UTC)     465460\n",
       "dtype: int64"
      ]
     },
     "execution_count": 20,
     "metadata": {},
     "output_type": "execute_result"
    }
   ],
   "source": [
    "user.count()"
   ]
  },
  {
   "cell_type": "code",
   "execution_count": 21,
   "metadata": {
    "colab": {
     "base_uri": "https://localhost:8080/"
    },
    "id": "ozlZnEGczidO",
    "outputId": "0eb70b9b-359b-48e8-aafc-0ad37bf310a7"
   },
   "outputs": [
    {
     "data": {
      "text/plain": [
       "Unnamed: 0           0\n",
       "id                   0\n",
       "display_name        24\n",
       "creation_date        0\n",
       "last_access_date     0\n",
       "reputation           0\n",
       "up_votes             0\n",
       "down_votes           0\n",
       "views                0\n",
       "cre_date             0\n",
       "cre_time(UTC)        0\n",
       "lastA_date           0\n",
       "LastA_time(UTC)      0\n",
       "dtype: int64"
      ]
     },
     "execution_count": 21,
     "metadata": {},
     "output_type": "execute_result"
    }
   ],
   "source": [
    "user.isnull().sum()"
   ]
  },
  {
   "cell_type": "code",
   "execution_count": 22,
   "metadata": {
    "colab": {
     "base_uri": "https://localhost:8080/"
    },
    "id": "PaR7Dv6jzxDm",
    "outputId": "02363d5a-dc09-428b-eeb8-9f8ac6d51c55"
   },
   "outputs": [
    {
     "data": {
      "text/plain": [
       "Unnamed: 0          465436\n",
       "id                  465436\n",
       "display_name        465436\n",
       "creation_date       465436\n",
       "last_access_date    465436\n",
       "reputation          465436\n",
       "up_votes            465436\n",
       "down_votes          465436\n",
       "views               465436\n",
       "cre_date            465436\n",
       "cre_time(UTC)       465436\n",
       "lastA_date          465436\n",
       "LastA_time(UTC)     465436\n",
       "dtype: int64"
      ]
     },
     "execution_count": 22,
     "metadata": {},
     "output_type": "execute_result"
    }
   ],
   "source": [
    "user = user.dropna()    # Dropping the missing values.\n",
    "user.count()"
   ]
  },
  {
   "cell_type": "code",
   "execution_count": 23,
   "metadata": {
    "colab": {
     "base_uri": "https://localhost:8080/"
    },
    "id": "o7c8HDN90CyJ",
    "outputId": "a387140b-c014-4628-993b-b8489ba62c19"
   },
   "outputs": [
    {
     "data": {
      "text/plain": [
       "Id        0\n",
       "Tag    1112\n",
       "dtype: int64"
      ]
     },
     "execution_count": 23,
     "metadata": {},
     "output_type": "execute_result"
    }
   ],
   "source": [
    "tags.isnull().sum()"
   ]
  },
  {
   "cell_type": "code",
   "execution_count": 24,
   "metadata": {
    "colab": {
     "base_uri": "https://localhost:8080/"
    },
    "id": "d4gWbzeV0KKd",
    "outputId": "7b2d6780-976e-478f-f228-004644bff255"
   },
   "outputs": [
    {
     "data": {
      "text/plain": [
       "Id     3750993\n",
       "Tag    3749881\n",
       "dtype: int64"
      ]
     },
     "execution_count": 24,
     "metadata": {},
     "output_type": "execute_result"
    }
   ],
   "source": [
    "tags.count()"
   ]
  },
  {
   "cell_type": "code",
   "execution_count": 25,
   "metadata": {
    "colab": {
     "base_uri": "https://localhost:8080/"
    },
    "id": "MAK4gwYV0SKq",
    "outputId": "68dc08c2-5e49-4cfa-b3ac-783866321a92"
   },
   "outputs": [
    {
     "data": {
      "text/plain": [
       "Id     3749881\n",
       "Tag    3749881\n",
       "dtype: int64"
      ]
     },
     "execution_count": 25,
     "metadata": {},
     "output_type": "execute_result"
    }
   ],
   "source": [
    "tags = tags.dropna()    # Dropping the missing values.\n",
    "tags.count()"
   ]
  },
  {
   "cell_type": "code",
   "execution_count": 26,
   "metadata": {
    "colab": {
     "base_uri": "https://localhost:8080/",
     "height": 195
    },
    "id": "F36gF58h0duU",
    "outputId": "faad5952-aa08-420f-bed8-c8d142d02351"
   },
   "outputs": [
    {
     "data": {
      "text/html": [
       "<div>\n",
       "<style scoped>\n",
       "    .dataframe tbody tr th:only-of-type {\n",
       "        vertical-align: middle;\n",
       "    }\n",
       "\n",
       "    .dataframe tbody tr th {\n",
       "        vertical-align: top;\n",
       "    }\n",
       "\n",
       "    .dataframe thead th {\n",
       "        text-align: right;\n",
       "    }\n",
       "</style>\n",
       "<table border=\"1\" class=\"dataframe\">\n",
       "  <thead>\n",
       "    <tr style=\"text-align: right;\">\n",
       "      <th></th>\n",
       "      <th>Id</th>\n",
       "      <th>OwnerUserId</th>\n",
       "      <th>CreationDate</th>\n",
       "      <th>ParentId</th>\n",
       "      <th>Score</th>\n",
       "      <th>Body</th>\n",
       "    </tr>\n",
       "  </thead>\n",
       "  <tbody>\n",
       "    <tr>\n",
       "      <th>0</th>\n",
       "      <td>92</td>\n",
       "      <td>61.0</td>\n",
       "      <td>2008-08-01T14:45:37Z</td>\n",
       "      <td>90</td>\n",
       "      <td>13</td>\n",
       "      <td>&lt;p&gt;&lt;a href=\"http://svnbook.red-bean.com/\"&gt;Vers...</td>\n",
       "    </tr>\n",
       "    <tr>\n",
       "      <th>1</th>\n",
       "      <td>124</td>\n",
       "      <td>26.0</td>\n",
       "      <td>2008-08-01T16:09:47Z</td>\n",
       "      <td>80</td>\n",
       "      <td>12</td>\n",
       "      <td>&lt;p&gt;I wound up using this. It is a kind of a ha...</td>\n",
       "    </tr>\n",
       "    <tr>\n",
       "      <th>2</th>\n",
       "      <td>199</td>\n",
       "      <td>50.0</td>\n",
       "      <td>2008-08-01T19:36:46Z</td>\n",
       "      <td>180</td>\n",
       "      <td>1</td>\n",
       "      <td>&lt;p&gt;I've read somewhere the human eye can't dis...</td>\n",
       "    </tr>\n",
       "    <tr>\n",
       "      <th>3</th>\n",
       "      <td>269</td>\n",
       "      <td>91.0</td>\n",
       "      <td>2008-08-01T23:49:57Z</td>\n",
       "      <td>260</td>\n",
       "      <td>4</td>\n",
       "      <td>&lt;p&gt;Yes, I thought about that, but I soon figur...</td>\n",
       "    </tr>\n",
       "    <tr>\n",
       "      <th>4</th>\n",
       "      <td>307</td>\n",
       "      <td>49.0</td>\n",
       "      <td>2008-08-02T01:49:46Z</td>\n",
       "      <td>260</td>\n",
       "      <td>28</td>\n",
       "      <td>&lt;p&gt;&lt;a href=\"http://www.codeproject.com/Article...</td>\n",
       "    </tr>\n",
       "  </tbody>\n",
       "</table>\n",
       "</div>"
      ],
      "text/plain": [
       "    Id  OwnerUserId          CreationDate  ParentId  Score  \\\n",
       "0   92         61.0  2008-08-01T14:45:37Z        90     13   \n",
       "1  124         26.0  2008-08-01T16:09:47Z        80     12   \n",
       "2  199         50.0  2008-08-01T19:36:46Z       180      1   \n",
       "3  269         91.0  2008-08-01T23:49:57Z       260      4   \n",
       "4  307         49.0  2008-08-02T01:49:46Z       260     28   \n",
       "\n",
       "                                                Body  \n",
       "0  <p><a href=\"http://svnbook.red-bean.com/\">Vers...  \n",
       "1  <p>I wound up using this. It is a kind of a ha...  \n",
       "2  <p>I've read somewhere the human eye can't dis...  \n",
       "3  <p>Yes, I thought about that, but I soon figur...  \n",
       "4  <p><a href=\"http://www.codeproject.com/Article...  "
      ]
     },
     "execution_count": 26,
     "metadata": {},
     "output_type": "execute_result"
    }
   ],
   "source": [
    "ans.head()"
   ]
  },
  {
   "cell_type": "code",
   "execution_count": 27,
   "metadata": {
    "colab": {
     "base_uri": "https://localhost:8080/"
    },
    "id": "sl5YVsXg0hXP",
    "outputId": "19745367-7c82-4e89-b0c9-3594f987ea1f"
   },
   "outputs": [
    {
     "name": "stdout",
     "output_type": "stream",
     "text": [
      "<class 'pandas.core.frame.DataFrame'>\n",
      "Int64Index: 2014516 entries, 0 to 2014515\n",
      "Data columns (total 6 columns):\n",
      " #   Column        Dtype  \n",
      "---  ------        -----  \n",
      " 0   Id            int64  \n",
      " 1   OwnerUserId   float64\n",
      " 2   CreationDate  object \n",
      " 3   ParentId      int64  \n",
      " 4   Score         int64  \n",
      " 5   Body          object \n",
      "dtypes: float64(1), int64(3), object(2)\n",
      "memory usage: 107.6+ MB\n"
     ]
    }
   ],
   "source": [
    "ans.info()"
   ]
  },
  {
   "cell_type": "code",
   "execution_count": 28,
   "metadata": {
    "id": "DG7hkgQA0rnq"
   },
   "outputs": [],
   "source": [
    "ans.CreationDate =ans.CreationDate.astype(\"datetime64\") "
   ]
  },
  {
   "cell_type": "code",
   "execution_count": 29,
   "metadata": {
    "id": "piCBKUfC08hL"
   },
   "outputs": [],
   "source": [
    "ans['cre_date'] = [d.date() for d in ans['CreationDate']]\n",
    "ans['cre_time'] = [d.time() for d in ans['CreationDate']]"
   ]
  },
  {
   "cell_type": "code",
   "execution_count": 30,
   "metadata": {
    "colab": {
     "base_uri": "https://localhost:8080/",
     "height": 195
    },
    "id": "wvq8ZyCu1Nt-",
    "outputId": "ba6e5a84-723d-4ff7-cf1b-cd711881a9d6"
   },
   "outputs": [
    {
     "data": {
      "text/html": [
       "<div>\n",
       "<style scoped>\n",
       "    .dataframe tbody tr th:only-of-type {\n",
       "        vertical-align: middle;\n",
       "    }\n",
       "\n",
       "    .dataframe tbody tr th {\n",
       "        vertical-align: top;\n",
       "    }\n",
       "\n",
       "    .dataframe thead th {\n",
       "        text-align: right;\n",
       "    }\n",
       "</style>\n",
       "<table border=\"1\" class=\"dataframe\">\n",
       "  <thead>\n",
       "    <tr style=\"text-align: right;\">\n",
       "      <th></th>\n",
       "      <th>Id</th>\n",
       "      <th>OwnerUserId</th>\n",
       "      <th>CreationDate</th>\n",
       "      <th>ParentId</th>\n",
       "      <th>Score</th>\n",
       "      <th>Body</th>\n",
       "      <th>cre_date</th>\n",
       "      <th>cre_time</th>\n",
       "    </tr>\n",
       "  </thead>\n",
       "  <tbody>\n",
       "    <tr>\n",
       "      <th>0</th>\n",
       "      <td>92</td>\n",
       "      <td>61.0</td>\n",
       "      <td>2008-08-01 14:45:37</td>\n",
       "      <td>90</td>\n",
       "      <td>13</td>\n",
       "      <td>&lt;p&gt;&lt;a href=\"http://svnbook.red-bean.com/\"&gt;Vers...</td>\n",
       "      <td>2008-08-01</td>\n",
       "      <td>14:45:37</td>\n",
       "    </tr>\n",
       "    <tr>\n",
       "      <th>1</th>\n",
       "      <td>124</td>\n",
       "      <td>26.0</td>\n",
       "      <td>2008-08-01 16:09:47</td>\n",
       "      <td>80</td>\n",
       "      <td>12</td>\n",
       "      <td>&lt;p&gt;I wound up using this. It is a kind of a ha...</td>\n",
       "      <td>2008-08-01</td>\n",
       "      <td>16:09:47</td>\n",
       "    </tr>\n",
       "    <tr>\n",
       "      <th>2</th>\n",
       "      <td>199</td>\n",
       "      <td>50.0</td>\n",
       "      <td>2008-08-01 19:36:46</td>\n",
       "      <td>180</td>\n",
       "      <td>1</td>\n",
       "      <td>&lt;p&gt;I've read somewhere the human eye can't dis...</td>\n",
       "      <td>2008-08-01</td>\n",
       "      <td>19:36:46</td>\n",
       "    </tr>\n",
       "    <tr>\n",
       "      <th>3</th>\n",
       "      <td>269</td>\n",
       "      <td>91.0</td>\n",
       "      <td>2008-08-01 23:49:57</td>\n",
       "      <td>260</td>\n",
       "      <td>4</td>\n",
       "      <td>&lt;p&gt;Yes, I thought about that, but I soon figur...</td>\n",
       "      <td>2008-08-01</td>\n",
       "      <td>23:49:57</td>\n",
       "    </tr>\n",
       "    <tr>\n",
       "      <th>4</th>\n",
       "      <td>307</td>\n",
       "      <td>49.0</td>\n",
       "      <td>2008-08-02 01:49:46</td>\n",
       "      <td>260</td>\n",
       "      <td>28</td>\n",
       "      <td>&lt;p&gt;&lt;a href=\"http://www.codeproject.com/Article...</td>\n",
       "      <td>2008-08-02</td>\n",
       "      <td>01:49:46</td>\n",
       "    </tr>\n",
       "  </tbody>\n",
       "</table>\n",
       "</div>"
      ],
      "text/plain": [
       "    Id  OwnerUserId        CreationDate  ParentId  Score  \\\n",
       "0   92         61.0 2008-08-01 14:45:37        90     13   \n",
       "1  124         26.0 2008-08-01 16:09:47        80     12   \n",
       "2  199         50.0 2008-08-01 19:36:46       180      1   \n",
       "3  269         91.0 2008-08-01 23:49:57       260      4   \n",
       "4  307         49.0 2008-08-02 01:49:46       260     28   \n",
       "\n",
       "                                                Body    cre_date  cre_time  \n",
       "0  <p><a href=\"http://svnbook.red-bean.com/\">Vers...  2008-08-01  14:45:37  \n",
       "1  <p>I wound up using this. It is a kind of a ha...  2008-08-01  16:09:47  \n",
       "2  <p>I've read somewhere the human eye can't dis...  2008-08-01  19:36:46  \n",
       "3  <p>Yes, I thought about that, but I soon figur...  2008-08-01  23:49:57  \n",
       "4  <p><a href=\"http://www.codeproject.com/Article...  2008-08-02  01:49:46  "
      ]
     },
     "execution_count": 30,
     "metadata": {},
     "output_type": "execute_result"
    }
   ],
   "source": [
    "ans.head()"
   ]
  },
  {
   "cell_type": "code",
   "execution_count": 31,
   "metadata": {
    "id": "8XH3CnPu2KnU"
   },
   "outputs": [],
   "source": [
    "que.CreationDate =que.CreationDate.astype(\"datetime64\")\n",
    "que.ClosedDate =que.ClosedDate.astype(\"datetime64\")  "
   ]
  },
  {
   "cell_type": "code",
   "execution_count": 32,
   "metadata": {
    "colab": {
     "base_uri": "https://localhost:8080/"
    },
    "id": "rBndQ-xT2seN",
    "outputId": "b1b518ae-7966-48bd-e417-759e588451d3"
   },
   "outputs": [
    {
     "name": "stdout",
     "output_type": "stream",
     "text": [
      "<class 'pandas.core.frame.DataFrame'>\n",
      "Int64Index: 1264216 entries, 0 to 1264215\n",
      "Data columns (total 7 columns):\n",
      " #   Column        Non-Null Count    Dtype         \n",
      "---  ------        --------------    -----         \n",
      " 0   Id            1264216 non-null  int64         \n",
      " 1   OwnerUserId   1249762 non-null  float64       \n",
      " 2   CreationDate  1264216 non-null  datetime64[ns]\n",
      " 3   ClosedDate    55959 non-null    datetime64[ns]\n",
      " 4   Score         1264216 non-null  int64         \n",
      " 5   Title         1264216 non-null  object        \n",
      " 6   Body          1264216 non-null  object        \n",
      "dtypes: datetime64[ns](2), float64(1), int64(2), object(2)\n",
      "memory usage: 77.2+ MB\n"
     ]
    }
   ],
   "source": [
    "que.info()"
   ]
  },
  {
   "cell_type": "code",
   "execution_count": 33,
   "metadata": {
    "colab": {
     "base_uri": "https://localhost:8080/"
    },
    "id": "nmdXj5VO3HQs",
    "outputId": "74abf891-2d29-4015-c9af-f019df106af7"
   },
   "outputs": [
    {
     "data": {
      "text/plain": [
       "1208257"
      ]
     },
     "execution_count": 33,
     "metadata": {},
     "output_type": "execute_result"
    }
   ],
   "source": [
    "que['ClosedDate'].isna().sum()"
   ]
  },
  {
   "cell_type": "code",
   "execution_count": 34,
   "metadata": {
    "colab": {
     "base_uri": "https://localhost:8080/",
     "height": 195
    },
    "id": "FE57QpkZ3k9E",
    "outputId": "ab9406b3-1b66-4966-a091-22daa8d32e94"
   },
   "outputs": [
    {
     "data": {
      "text/html": [
       "<div>\n",
       "<style scoped>\n",
       "    .dataframe tbody tr th:only-of-type {\n",
       "        vertical-align: middle;\n",
       "    }\n",
       "\n",
       "    .dataframe tbody tr th {\n",
       "        vertical-align: top;\n",
       "    }\n",
       "\n",
       "    .dataframe thead th {\n",
       "        text-align: right;\n",
       "    }\n",
       "</style>\n",
       "<table border=\"1\" class=\"dataframe\">\n",
       "  <thead>\n",
       "    <tr style=\"text-align: right;\">\n",
       "      <th></th>\n",
       "      <th>Id</th>\n",
       "      <th>OwnerUserId</th>\n",
       "      <th>CreationDate</th>\n",
       "      <th>ClosedDate</th>\n",
       "      <th>Score</th>\n",
       "      <th>Title</th>\n",
       "      <th>Body</th>\n",
       "    </tr>\n",
       "  </thead>\n",
       "  <tbody>\n",
       "    <tr>\n",
       "      <th>0</th>\n",
       "      <td>80</td>\n",
       "      <td>26.0</td>\n",
       "      <td>2008-08-01 13:57:07</td>\n",
       "      <td>NaT</td>\n",
       "      <td>26</td>\n",
       "      <td>SQLStatement.execute() - multiple queries in o...</td>\n",
       "      <td>&lt;p&gt;I've written a database generation script i...</td>\n",
       "    </tr>\n",
       "    <tr>\n",
       "      <th>1</th>\n",
       "      <td>90</td>\n",
       "      <td>58.0</td>\n",
       "      <td>2008-08-01 14:41:24</td>\n",
       "      <td>2012-12-26 03:45:49</td>\n",
       "      <td>144</td>\n",
       "      <td>Good branching and merging tutorials for Torto...</td>\n",
       "      <td>&lt;p&gt;Are there any really good tutorials explain...</td>\n",
       "    </tr>\n",
       "    <tr>\n",
       "      <th>2</th>\n",
       "      <td>120</td>\n",
       "      <td>83.0</td>\n",
       "      <td>2008-08-01 15:50:08</td>\n",
       "      <td>NaT</td>\n",
       "      <td>21</td>\n",
       "      <td>ASP.NET Site Maps</td>\n",
       "      <td>&lt;p&gt;Has anyone got experience creating &lt;strong&gt;...</td>\n",
       "    </tr>\n",
       "    <tr>\n",
       "      <th>3</th>\n",
       "      <td>180</td>\n",
       "      <td>2089740.0</td>\n",
       "      <td>2008-08-01 18:42:19</td>\n",
       "      <td>NaT</td>\n",
       "      <td>53</td>\n",
       "      <td>Function for creating color wheels</td>\n",
       "      <td>&lt;p&gt;This is something I've pseudo-solved many t...</td>\n",
       "    </tr>\n",
       "    <tr>\n",
       "      <th>4</th>\n",
       "      <td>260</td>\n",
       "      <td>91.0</td>\n",
       "      <td>2008-08-01 23:22:08</td>\n",
       "      <td>NaT</td>\n",
       "      <td>49</td>\n",
       "      <td>Adding scripting functionality to .NET applica...</td>\n",
       "      <td>&lt;p&gt;I have a little game written in C#. It uses...</td>\n",
       "    </tr>\n",
       "  </tbody>\n",
       "</table>\n",
       "</div>"
      ],
      "text/plain": [
       "    Id  OwnerUserId        CreationDate          ClosedDate  Score  \\\n",
       "0   80         26.0 2008-08-01 13:57:07                 NaT     26   \n",
       "1   90         58.0 2008-08-01 14:41:24 2012-12-26 03:45:49    144   \n",
       "2  120         83.0 2008-08-01 15:50:08                 NaT     21   \n",
       "3  180    2089740.0 2008-08-01 18:42:19                 NaT     53   \n",
       "4  260         91.0 2008-08-01 23:22:08                 NaT     49   \n",
       "\n",
       "                                               Title  \\\n",
       "0  SQLStatement.execute() - multiple queries in o...   \n",
       "1  Good branching and merging tutorials for Torto...   \n",
       "2                                  ASP.NET Site Maps   \n",
       "3                 Function for creating color wheels   \n",
       "4  Adding scripting functionality to .NET applica...   \n",
       "\n",
       "                                                Body  \n",
       "0  <p>I've written a database generation script i...  \n",
       "1  <p>Are there any really good tutorials explain...  \n",
       "2  <p>Has anyone got experience creating <strong>...  \n",
       "3  <p>This is something I've pseudo-solved many t...  \n",
       "4  <p>I have a little game written in C#. It uses...  "
      ]
     },
     "execution_count": 34,
     "metadata": {},
     "output_type": "execute_result"
    }
   ],
   "source": [
    "que.head()"
   ]
  },
  {
   "cell_type": "code",
   "execution_count": 35,
   "metadata": {
    "colab": {
     "base_uri": "https://localhost:8080/"
    },
    "id": "gFbJbyC64L_o",
    "outputId": "a2005e17-28f8-4029-f27d-14d0e9ee5158"
   },
   "outputs": [
    {
     "data": {
      "text/plain": [
       "Id                  0\n",
       "OwnerUserId     13200\n",
       "CreationDate        0\n",
       "ParentId            0\n",
       "Score               0\n",
       "Body                0\n",
       "cre_date            0\n",
       "cre_time            0\n",
       "dtype: int64"
      ]
     },
     "execution_count": 35,
     "metadata": {},
     "output_type": "execute_result"
    }
   ],
   "source": [
    "ans.isnull().sum()"
   ]
  },
  {
   "cell_type": "code",
   "execution_count": 36,
   "metadata": {
    "colab": {
     "base_uri": "https://localhost:8080/"
    },
    "id": "YQGe-p0VilSZ",
    "outputId": "8990629d-c046-49e4-983d-f824f7a4d59d"
   },
   "outputs": [
    {
     "data": {
      "text/plain": [
       "Id              2001316\n",
       "OwnerUserId     2001316\n",
       "CreationDate    2001316\n",
       "ParentId        2001316\n",
       "Score           2001316\n",
       "Body            2001316\n",
       "cre_date        2001316\n",
       "cre_time        2001316\n",
       "dtype: int64"
      ]
     },
     "execution_count": 36,
     "metadata": {},
     "output_type": "execute_result"
    }
   ],
   "source": [
    "ans = ans.dropna()    # Dropping the missing values.\n",
    "ans.count()"
   ]
  },
  {
   "cell_type": "markdown",
   "metadata": {
    "id": "tI6iteC-byXR"
   },
   "source": [
    "# Analysis for Finding the trending subjects/topics\n"
   ]
  },
  {
   "cell_type": "code",
   "execution_count": 37,
   "metadata": {
    "colab": {
     "base_uri": "https://localhost:8080/",
     "height": 195
    },
    "id": "rkZCMgOSbJu9",
    "outputId": "5981759d-9c08-4d00-d6bd-5d5b89b50c81"
   },
   "outputs": [
    {
     "data": {
      "text/html": [
       "<div>\n",
       "<style scoped>\n",
       "    .dataframe tbody tr th:only-of-type {\n",
       "        vertical-align: middle;\n",
       "    }\n",
       "\n",
       "    .dataframe tbody tr th {\n",
       "        vertical-align: top;\n",
       "    }\n",
       "\n",
       "    .dataframe thead th {\n",
       "        text-align: right;\n",
       "    }\n",
       "</style>\n",
       "<table border=\"1\" class=\"dataframe\">\n",
       "  <thead>\n",
       "    <tr style=\"text-align: right;\">\n",
       "      <th></th>\n",
       "      <th>Id</th>\n",
       "      <th>Tag</th>\n",
       "    </tr>\n",
       "  </thead>\n",
       "  <tbody>\n",
       "    <tr>\n",
       "      <th>0</th>\n",
       "      <td>80</td>\n",
       "      <td>flex</td>\n",
       "    </tr>\n",
       "    <tr>\n",
       "      <th>1</th>\n",
       "      <td>80</td>\n",
       "      <td>actionscript-3</td>\n",
       "    </tr>\n",
       "    <tr>\n",
       "      <th>2</th>\n",
       "      <td>80</td>\n",
       "      <td>air</td>\n",
       "    </tr>\n",
       "    <tr>\n",
       "      <th>3</th>\n",
       "      <td>90</td>\n",
       "      <td>svn</td>\n",
       "    </tr>\n",
       "    <tr>\n",
       "      <th>4</th>\n",
       "      <td>90</td>\n",
       "      <td>tortoisesvn</td>\n",
       "    </tr>\n",
       "  </tbody>\n",
       "</table>\n",
       "</div>"
      ],
      "text/plain": [
       "   Id             Tag\n",
       "0  80            flex\n",
       "1  80  actionscript-3\n",
       "2  80             air\n",
       "3  90             svn\n",
       "4  90     tortoisesvn"
      ]
     },
     "execution_count": 37,
     "metadata": {},
     "output_type": "execute_result"
    }
   ],
   "source": [
    "tags.head()"
   ]
  },
  {
   "cell_type": "code",
   "execution_count": 38,
   "metadata": {
    "colab": {
     "base_uri": "https://localhost:8080/"
    },
    "id": "CJI96JiiNNQk",
    "outputId": "32c90bf7-9f31-4cd2-e60f-afdd18d453f4"
   },
   "outputs": [
    {
     "data": {
      "text/plain": [
       "Id      int64\n",
       "Tag    object\n",
       "dtype: object"
      ]
     },
     "execution_count": 38,
     "metadata": {},
     "output_type": "execute_result"
    }
   ],
   "source": [
    "tags.dtypes"
   ]
  },
  {
   "cell_type": "code",
   "execution_count": 39,
   "metadata": {
    "id": "mtIjLV3Ga4a6"
   },
   "outputs": [],
   "source": [
    "Trending_topics = tags.Tag.value_counts()"
   ]
  },
  {
   "cell_type": "code",
   "execution_count": 40,
   "metadata": {
    "colab": {
     "base_uri": "https://localhost:8080/"
    },
    "id": "cs8Fncw9bXD2",
    "outputId": "13d08e48-4aa7-4ba7-e150-63b73d8f8a22"
   },
   "outputs": [
    {
     "data": {
      "text/plain": [
       "javascript    124155\n",
       "java          115212\n",
       "c#            101186\n",
       "php            98808\n",
       "android        90659\n",
       "Name: Tag, dtype: int64"
      ]
     },
     "execution_count": 40,
     "metadata": {},
     "output_type": "execute_result"
    }
   ],
   "source": [
    "Trending_topics.head()"
   ]
  },
  {
   "cell_type": "code",
   "execution_count": 41,
   "metadata": {
    "id": "ieXJITkBZNUi"
   },
   "outputs": [],
   "source": [
    "Trending_topics_df = pd.DataFrame(Trending_topics)"
   ]
  },
  {
   "cell_type": "code",
   "execution_count": 42,
   "metadata": {
    "id": "_xSRLx5g55gF"
   },
   "outputs": [],
   "source": [
    "Trending_topics_df = Trending_topics_df.reset_index()"
   ]
  },
  {
   "cell_type": "code",
   "execution_count": 76,
   "metadata": {
    "id": "3IFWB53f6Jdi"
   },
   "outputs": [],
   "source": [
    "Trending_topics_df = Trending_topics_df.rename(columns={\"index\": \"Tags\", \"Tag\": \"number_of_que\" })"
   ]
  },
  {
   "cell_type": "code",
   "execution_count": 77,
   "metadata": {
    "colab": {
     "base_uri": "https://localhost:8080/",
     "height": 402
    },
    "id": "Vys6IdQyZyi_",
    "outputId": "af446d7f-ccbd-4550-d8a1-37c403f3881a"
   },
   "outputs": [
    {
     "data": {
      "text/html": [
       "<div>\n",
       "<style scoped>\n",
       "    .dataframe tbody tr th:only-of-type {\n",
       "        vertical-align: middle;\n",
       "    }\n",
       "\n",
       "    .dataframe tbody tr th {\n",
       "        vertical-align: top;\n",
       "    }\n",
       "\n",
       "    .dataframe thead th {\n",
       "        text-align: right;\n",
       "    }\n",
       "</style>\n",
       "<table border=\"1\" class=\"dataframe\">\n",
       "  <thead>\n",
       "    <tr style=\"text-align: right;\">\n",
       "      <th></th>\n",
       "      <th>Tags</th>\n",
       "      <th>number_of_que</th>\n",
       "    </tr>\n",
       "  </thead>\n",
       "  <tbody>\n",
       "    <tr>\n",
       "      <th>0</th>\n",
       "      <td>javascript</td>\n",
       "      <td>124155</td>\n",
       "    </tr>\n",
       "    <tr>\n",
       "      <th>1</th>\n",
       "      <td>java</td>\n",
       "      <td>115212</td>\n",
       "    </tr>\n",
       "    <tr>\n",
       "      <th>2</th>\n",
       "      <td>c#</td>\n",
       "      <td>101186</td>\n",
       "    </tr>\n",
       "    <tr>\n",
       "      <th>3</th>\n",
       "      <td>php</td>\n",
       "      <td>98808</td>\n",
       "    </tr>\n",
       "    <tr>\n",
       "      <th>4</th>\n",
       "      <td>android</td>\n",
       "      <td>90659</td>\n",
       "    </tr>\n",
       "    <tr>\n",
       "      <th>...</th>\n",
       "      <td>...</td>\n",
       "      <td>...</td>\n",
       "    </tr>\n",
       "    <tr>\n",
       "      <th>37029</th>\n",
       "      <td>test-is</td>\n",
       "      <td>1</td>\n",
       "    </tr>\n",
       "    <tr>\n",
       "      <th>37030</th>\n",
       "      <td>verysleepy</td>\n",
       "      <td>1</td>\n",
       "    </tr>\n",
       "    <tr>\n",
       "      <th>37031</th>\n",
       "      <td>themoviedb-api</td>\n",
       "      <td>1</td>\n",
       "    </tr>\n",
       "    <tr>\n",
       "      <th>37032</th>\n",
       "      <td>cuba</td>\n",
       "      <td>1</td>\n",
       "    </tr>\n",
       "    <tr>\n",
       "      <th>37033</th>\n",
       "      <td>gemalto</td>\n",
       "      <td>1</td>\n",
       "    </tr>\n",
       "  </tbody>\n",
       "</table>\n",
       "<p>37034 rows × 2 columns</p>\n",
       "</div>"
      ],
      "text/plain": [
       "                 Tags  number_of_que\n",
       "0          javascript         124155\n",
       "1                java         115212\n",
       "2                  c#         101186\n",
       "3                 php          98808\n",
       "4             android          90659\n",
       "...               ...            ...\n",
       "37029         test-is              1\n",
       "37030      verysleepy              1\n",
       "37031  themoviedb-api              1\n",
       "37032            cuba              1\n",
       "37033         gemalto              1\n",
       "\n",
       "[37034 rows x 2 columns]"
      ]
     },
     "execution_count": 77,
     "metadata": {},
     "output_type": "execute_result"
    }
   ],
   "source": [
    "Trending_topics_df"
   ]
  },
  {
   "cell_type": "code",
   "execution_count": 81,
   "metadata": {
    "id": "F2BVCpBMZZaN"
   },
   "outputs": [
    {
     "data": {
      "image/png": "[encoded data removed]",
      "text/plain": [
       "<Figure size 432x288 with 1 Axes>"
      ]
     },
     "metadata": {},
     "output_type": "display_data"
    }
   ],
   "source": [
    "Df = Trending_topics_df.head(10)\n",
    "sns.barplot(x = Df.Tags, y = Df.number_of_que)\n",
    "plt.show()"
   ]
  },
  {
   "cell_type": "markdown",
   "metadata": {
    "id": "N2HHH09xcEYN"
   },
   "source": [
    "## Analysis for expected time to find an answer"
   ]
  },
  {
   "cell_type": "code",
   "execution_count": 46,
   "metadata": {
    "colab": {
     "base_uri": "https://localhost:8080/",
     "height": 195
    },
    "id": "iSAJai_uf1H4",
    "outputId": "c5803d86-a406-4433-c216-a7e18fec3f3a"
   },
   "outputs": [
    {
     "data": {
      "text/html": [
       "<div>\n",
       "<style scoped>\n",
       "    .dataframe tbody tr th:only-of-type {\n",
       "        vertical-align: middle;\n",
       "    }\n",
       "\n",
       "    .dataframe tbody tr th {\n",
       "        vertical-align: top;\n",
       "    }\n",
       "\n",
       "    .dataframe thead th {\n",
       "        text-align: right;\n",
       "    }\n",
       "</style>\n",
       "<table border=\"1\" class=\"dataframe\">\n",
       "  <thead>\n",
       "    <tr style=\"text-align: right;\">\n",
       "      <th></th>\n",
       "      <th>Id</th>\n",
       "      <th>tag</th>\n",
       "    </tr>\n",
       "  </thead>\n",
       "  <tbody>\n",
       "    <tr>\n",
       "      <th>0</th>\n",
       "      <td>80</td>\n",
       "      <td>flex</td>\n",
       "    </tr>\n",
       "    <tr>\n",
       "      <th>1</th>\n",
       "      <td>80</td>\n",
       "      <td>actionscript-3</td>\n",
       "    </tr>\n",
       "    <tr>\n",
       "      <th>2</th>\n",
       "      <td>80</td>\n",
       "      <td>air</td>\n",
       "    </tr>\n",
       "    <tr>\n",
       "      <th>3</th>\n",
       "      <td>90</td>\n",
       "      <td>svn</td>\n",
       "    </tr>\n",
       "    <tr>\n",
       "      <th>4</th>\n",
       "      <td>90</td>\n",
       "      <td>tortoisesvn</td>\n",
       "    </tr>\n",
       "  </tbody>\n",
       "</table>\n",
       "</div>"
      ],
      "text/plain": [
       "   Id             tag\n",
       "0  80            flex\n",
       "1  80  actionscript-3\n",
       "2  80             air\n",
       "3  90             svn\n",
       "4  90     tortoisesvn"
      ]
     },
     "execution_count": 46,
     "metadata": {},
     "output_type": "execute_result"
    }
   ],
   "source": [
    "tags = tags.rename(columns={\"id\": \"Id\", \"Tag\": \"tag\" })\n",
    "tags.head(5)"
   ]
  },
  {
   "cell_type": "code",
   "execution_count": 47,
   "metadata": {
    "colab": {
     "base_uri": "https://localhost:8080/",
     "height": 195
    },
    "id": "pfFvwe_AgfSJ",
    "outputId": "9db5f376-6ef1-48fb-f9e9-a7dd70b693a7"
   },
   "outputs": [
    {
     "data": {
      "text/html": [
       "<div>\n",
       "<style scoped>\n",
       "    .dataframe tbody tr th:only-of-type {\n",
       "        vertical-align: middle;\n",
       "    }\n",
       "\n",
       "    .dataframe tbody tr th {\n",
       "        vertical-align: top;\n",
       "    }\n",
       "\n",
       "    .dataframe thead th {\n",
       "        text-align: right;\n",
       "    }\n",
       "</style>\n",
       "<table border=\"1\" class=\"dataframe\">\n",
       "  <thead>\n",
       "    <tr style=\"text-align: right;\">\n",
       "      <th></th>\n",
       "      <th>Id</th>\n",
       "      <th>OwnerUserId</th>\n",
       "      <th>CreationDate</th>\n",
       "      <th>ClosedDate</th>\n",
       "      <th>Score</th>\n",
       "      <th>Title</th>\n",
       "      <th>Body</th>\n",
       "    </tr>\n",
       "  </thead>\n",
       "  <tbody>\n",
       "    <tr>\n",
       "      <th>0</th>\n",
       "      <td>80</td>\n",
       "      <td>26.0</td>\n",
       "      <td>2008-08-01 13:57:07</td>\n",
       "      <td>NaT</td>\n",
       "      <td>26</td>\n",
       "      <td>SQLStatement.execute() - multiple queries in o...</td>\n",
       "      <td>&lt;p&gt;I've written a database generation script i...</td>\n",
       "    </tr>\n",
       "    <tr>\n",
       "      <th>1</th>\n",
       "      <td>90</td>\n",
       "      <td>58.0</td>\n",
       "      <td>2008-08-01 14:41:24</td>\n",
       "      <td>2012-12-26 03:45:49</td>\n",
       "      <td>144</td>\n",
       "      <td>Good branching and merging tutorials for Torto...</td>\n",
       "      <td>&lt;p&gt;Are there any really good tutorials explain...</td>\n",
       "    </tr>\n",
       "    <tr>\n",
       "      <th>2</th>\n",
       "      <td>120</td>\n",
       "      <td>83.0</td>\n",
       "      <td>2008-08-01 15:50:08</td>\n",
       "      <td>NaT</td>\n",
       "      <td>21</td>\n",
       "      <td>ASP.NET Site Maps</td>\n",
       "      <td>&lt;p&gt;Has anyone got experience creating &lt;strong&gt;...</td>\n",
       "    </tr>\n",
       "    <tr>\n",
       "      <th>3</th>\n",
       "      <td>180</td>\n",
       "      <td>2089740.0</td>\n",
       "      <td>2008-08-01 18:42:19</td>\n",
       "      <td>NaT</td>\n",
       "      <td>53</td>\n",
       "      <td>Function for creating color wheels</td>\n",
       "      <td>&lt;p&gt;This is something I've pseudo-solved many t...</td>\n",
       "    </tr>\n",
       "    <tr>\n",
       "      <th>4</th>\n",
       "      <td>260</td>\n",
       "      <td>91.0</td>\n",
       "      <td>2008-08-01 23:22:08</td>\n",
       "      <td>NaT</td>\n",
       "      <td>49</td>\n",
       "      <td>Adding scripting functionality to .NET applica...</td>\n",
       "      <td>&lt;p&gt;I have a little game written in C#. It uses...</td>\n",
       "    </tr>\n",
       "  </tbody>\n",
       "</table>\n",
       "</div>"
      ],
      "text/plain": [
       "    Id  OwnerUserId        CreationDate          ClosedDate  Score  \\\n",
       "0   80         26.0 2008-08-01 13:57:07                 NaT     26   \n",
       "1   90         58.0 2008-08-01 14:41:24 2012-12-26 03:45:49    144   \n",
       "2  120         83.0 2008-08-01 15:50:08                 NaT     21   \n",
       "3  180    2089740.0 2008-08-01 18:42:19                 NaT     53   \n",
       "4  260         91.0 2008-08-01 23:22:08                 NaT     49   \n",
       "\n",
       "                                               Title  \\\n",
       "0  SQLStatement.execute() - multiple queries in o...   \n",
       "1  Good branching and merging tutorials for Torto...   \n",
       "2                                  ASP.NET Site Maps   \n",
       "3                 Function for creating color wheels   \n",
       "4  Adding scripting functionality to .NET applica...   \n",
       "\n",
       "                                                Body  \n",
       "0  <p>I've written a database generation script i...  \n",
       "1  <p>Are there any really good tutorials explain...  \n",
       "2  <p>Has anyone got experience creating <strong>...  \n",
       "3  <p>This is something I've pseudo-solved many t...  \n",
       "4  <p>I have a little game written in C#. It uses...  "
      ]
     },
     "execution_count": 47,
     "metadata": {},
     "output_type": "execute_result"
    }
   ],
   "source": [
    "que.head()"
   ]
  },
  {
   "cell_type": "code",
   "execution_count": null,
   "metadata": {
    "id": "oDiSN-0Ogfd3"
   },
   "outputs": [],
   "source": []
  },
  {
   "cell_type": "code",
   "execution_count": 48,
   "metadata": {
    "id": "vLovRmlCcUHB"
   },
   "outputs": [],
   "source": [
    "que_wd_tags = pd.merge(\n",
    "    que,tags,\n",
    "    )"
   ]
  },
  {
   "cell_type": "code",
   "execution_count": 49,
   "metadata": {
    "colab": {
     "base_uri": "https://localhost:8080/",
     "height": 402
    },
    "id": "C_7jyC3UgUUj",
    "outputId": "a8f7c75f-d753-418b-8d06-4af2ef83409a"
   },
   "outputs": [
    {
     "data": {
      "text/html": [
       "<div>\n",
       "<style scoped>\n",
       "    .dataframe tbody tr th:only-of-type {\n",
       "        vertical-align: middle;\n",
       "    }\n",
       "\n",
       "    .dataframe tbody tr th {\n",
       "        vertical-align: top;\n",
       "    }\n",
       "\n",
       "    .dataframe thead th {\n",
       "        text-align: right;\n",
       "    }\n",
       "</style>\n",
       "<table border=\"1\" class=\"dataframe\">\n",
       "  <thead>\n",
       "    <tr style=\"text-align: right;\">\n",
       "      <th></th>\n",
       "      <th>Id</th>\n",
       "      <th>OwnerUserId</th>\n",
       "      <th>CreationDate</th>\n",
       "      <th>ClosedDate</th>\n",
       "      <th>Score</th>\n",
       "      <th>Title</th>\n",
       "      <th>Body</th>\n",
       "      <th>tag</th>\n",
       "    </tr>\n",
       "  </thead>\n",
       "  <tbody>\n",
       "    <tr>\n",
       "      <th>0</th>\n",
       "      <td>False</td>\n",
       "      <td>False</td>\n",
       "      <td>False</td>\n",
       "      <td>True</td>\n",
       "      <td>False</td>\n",
       "      <td>False</td>\n",
       "      <td>False</td>\n",
       "      <td>False</td>\n",
       "    </tr>\n",
       "    <tr>\n",
       "      <th>1</th>\n",
       "      <td>False</td>\n",
       "      <td>False</td>\n",
       "      <td>False</td>\n",
       "      <td>True</td>\n",
       "      <td>False</td>\n",
       "      <td>False</td>\n",
       "      <td>False</td>\n",
       "      <td>False</td>\n",
       "    </tr>\n",
       "    <tr>\n",
       "      <th>2</th>\n",
       "      <td>False</td>\n",
       "      <td>False</td>\n",
       "      <td>False</td>\n",
       "      <td>True</td>\n",
       "      <td>False</td>\n",
       "      <td>False</td>\n",
       "      <td>False</td>\n",
       "      <td>False</td>\n",
       "    </tr>\n",
       "    <tr>\n",
       "      <th>3</th>\n",
       "      <td>False</td>\n",
       "      <td>False</td>\n",
       "      <td>False</td>\n",
       "      <td>False</td>\n",
       "      <td>False</td>\n",
       "      <td>False</td>\n",
       "      <td>False</td>\n",
       "      <td>False</td>\n",
       "    </tr>\n",
       "    <tr>\n",
       "      <th>4</th>\n",
       "      <td>False</td>\n",
       "      <td>False</td>\n",
       "      <td>False</td>\n",
       "      <td>False</td>\n",
       "      <td>False</td>\n",
       "      <td>False</td>\n",
       "      <td>False</td>\n",
       "      <td>False</td>\n",
       "    </tr>\n",
       "    <tr>\n",
       "      <th>...</th>\n",
       "      <td>...</td>\n",
       "      <td>...</td>\n",
       "      <td>...</td>\n",
       "      <td>...</td>\n",
       "      <td>...</td>\n",
       "      <td>...</td>\n",
       "      <td>...</td>\n",
       "      <td>...</td>\n",
       "    </tr>\n",
       "    <tr>\n",
       "      <th>3749876</th>\n",
       "      <td>False</td>\n",
       "      <td>False</td>\n",
       "      <td>False</td>\n",
       "      <td>True</td>\n",
       "      <td>False</td>\n",
       "      <td>False</td>\n",
       "      <td>False</td>\n",
       "      <td>False</td>\n",
       "    </tr>\n",
       "    <tr>\n",
       "      <th>3749877</th>\n",
       "      <td>False</td>\n",
       "      <td>False</td>\n",
       "      <td>False</td>\n",
       "      <td>True</td>\n",
       "      <td>False</td>\n",
       "      <td>False</td>\n",
       "      <td>False</td>\n",
       "      <td>False</td>\n",
       "    </tr>\n",
       "    <tr>\n",
       "      <th>3749878</th>\n",
       "      <td>False</td>\n",
       "      <td>False</td>\n",
       "      <td>False</td>\n",
       "      <td>True</td>\n",
       "      <td>False</td>\n",
       "      <td>False</td>\n",
       "      <td>False</td>\n",
       "      <td>False</td>\n",
       "    </tr>\n",
       "    <tr>\n",
       "      <th>3749879</th>\n",
       "      <td>False</td>\n",
       "      <td>False</td>\n",
       "      <td>False</td>\n",
       "      <td>True</td>\n",
       "      <td>False</td>\n",
       "      <td>False</td>\n",
       "      <td>False</td>\n",
       "      <td>False</td>\n",
       "    </tr>\n",
       "    <tr>\n",
       "      <th>3749880</th>\n",
       "      <td>False</td>\n",
       "      <td>False</td>\n",
       "      <td>False</td>\n",
       "      <td>True</td>\n",
       "      <td>False</td>\n",
       "      <td>False</td>\n",
       "      <td>False</td>\n",
       "      <td>False</td>\n",
       "    </tr>\n",
       "  </tbody>\n",
       "</table>\n",
       "<p>3749881 rows × 8 columns</p>\n",
       "</div>"
      ],
      "text/plain": [
       "            Id  OwnerUserId  CreationDate  ClosedDate  Score  Title   Body  \\\n",
       "0        False        False         False        True  False  False  False   \n",
       "1        False        False         False        True  False  False  False   \n",
       "2        False        False         False        True  False  False  False   \n",
       "3        False        False         False       False  False  False  False   \n",
       "4        False        False         False       False  False  False  False   \n",
       "...        ...          ...           ...         ...    ...    ...    ...   \n",
       "3749876  False        False         False        True  False  False  False   \n",
       "3749877  False        False         False        True  False  False  False   \n",
       "3749878  False        False         False        True  False  False  False   \n",
       "3749879  False        False         False        True  False  False  False   \n",
       "3749880  False        False         False        True  False  False  False   \n",
       "\n",
       "           tag  \n",
       "0        False  \n",
       "1        False  \n",
       "2        False  \n",
       "3        False  \n",
       "4        False  \n",
       "...        ...  \n",
       "3749876  False  \n",
       "3749877  False  \n",
       "3749878  False  \n",
       "3749879  False  \n",
       "3749880  False  \n",
       "\n",
       "[3749881 rows x 8 columns]"
      ]
     },
     "execution_count": 49,
     "metadata": {},
     "output_type": "execute_result"
    }
   ],
   "source": [
    "que_wd_tags.isnull()"
   ]
  },
  {
   "cell_type": "code",
   "execution_count": 50,
   "metadata": {
    "id": "KLA-bR1bhIG1"
   },
   "outputs": [],
   "source": [
    "que_wd_tags = que_wd_tags.dropna()"
   ]
  },
  {
   "cell_type": "code",
   "execution_count": 51,
   "metadata": {
    "colab": {
     "base_uri": "https://localhost:8080/",
     "height": 402
    },
    "id": "t4tfc61BhmTr",
    "outputId": "28e3bf23-a820-4170-e7aa-04e41a7ae50d"
   },
   "outputs": [
    {
     "data": {
      "text/html": [
       "<div>\n",
       "<style scoped>\n",
       "    .dataframe tbody tr th:only-of-type {\n",
       "        vertical-align: middle;\n",
       "    }\n",
       "\n",
       "    .dataframe tbody tr th {\n",
       "        vertical-align: top;\n",
       "    }\n",
       "\n",
       "    .dataframe thead th {\n",
       "        text-align: right;\n",
       "    }\n",
       "</style>\n",
       "<table border=\"1\" class=\"dataframe\">\n",
       "  <thead>\n",
       "    <tr style=\"text-align: right;\">\n",
       "      <th></th>\n",
       "      <th>Id</th>\n",
       "      <th>OwnerUserId</th>\n",
       "      <th>CreationDate</th>\n",
       "      <th>ClosedDate</th>\n",
       "      <th>Score</th>\n",
       "      <th>Title</th>\n",
       "      <th>Body</th>\n",
       "      <th>tag</th>\n",
       "    </tr>\n",
       "  </thead>\n",
       "  <tbody>\n",
       "    <tr>\n",
       "      <th>3</th>\n",
       "      <td>False</td>\n",
       "      <td>False</td>\n",
       "      <td>False</td>\n",
       "      <td>False</td>\n",
       "      <td>False</td>\n",
       "      <td>False</td>\n",
       "      <td>False</td>\n",
       "      <td>False</td>\n",
       "    </tr>\n",
       "    <tr>\n",
       "      <th>4</th>\n",
       "      <td>False</td>\n",
       "      <td>False</td>\n",
       "      <td>False</td>\n",
       "      <td>False</td>\n",
       "      <td>False</td>\n",
       "      <td>False</td>\n",
       "      <td>False</td>\n",
       "      <td>False</td>\n",
       "    </tr>\n",
       "    <tr>\n",
       "      <th>5</th>\n",
       "      <td>False</td>\n",
       "      <td>False</td>\n",
       "      <td>False</td>\n",
       "      <td>False</td>\n",
       "      <td>False</td>\n",
       "      <td>False</td>\n",
       "      <td>False</td>\n",
       "      <td>False</td>\n",
       "    </tr>\n",
       "    <tr>\n",
       "      <th>6</th>\n",
       "      <td>False</td>\n",
       "      <td>False</td>\n",
       "      <td>False</td>\n",
       "      <td>False</td>\n",
       "      <td>False</td>\n",
       "      <td>False</td>\n",
       "      <td>False</td>\n",
       "      <td>False</td>\n",
       "    </tr>\n",
       "    <tr>\n",
       "      <th>22</th>\n",
       "      <td>False</td>\n",
       "      <td>False</td>\n",
       "      <td>False</td>\n",
       "      <td>False</td>\n",
       "      <td>False</td>\n",
       "      <td>False</td>\n",
       "      <td>False</td>\n",
       "      <td>False</td>\n",
       "    </tr>\n",
       "    <tr>\n",
       "      <th>...</th>\n",
       "      <td>...</td>\n",
       "      <td>...</td>\n",
       "      <td>...</td>\n",
       "      <td>...</td>\n",
       "      <td>...</td>\n",
       "      <td>...</td>\n",
       "      <td>...</td>\n",
       "      <td>...</td>\n",
       "    </tr>\n",
       "    <tr>\n",
       "      <th>3749781</th>\n",
       "      <td>False</td>\n",
       "      <td>False</td>\n",
       "      <td>False</td>\n",
       "      <td>False</td>\n",
       "      <td>False</td>\n",
       "      <td>False</td>\n",
       "      <td>False</td>\n",
       "      <td>False</td>\n",
       "    </tr>\n",
       "    <tr>\n",
       "      <th>3749782</th>\n",
       "      <td>False</td>\n",
       "      <td>False</td>\n",
       "      <td>False</td>\n",
       "      <td>False</td>\n",
       "      <td>False</td>\n",
       "      <td>False</td>\n",
       "      <td>False</td>\n",
       "      <td>False</td>\n",
       "    </tr>\n",
       "    <tr>\n",
       "      <th>3749783</th>\n",
       "      <td>False</td>\n",
       "      <td>False</td>\n",
       "      <td>False</td>\n",
       "      <td>False</td>\n",
       "      <td>False</td>\n",
       "      <td>False</td>\n",
       "      <td>False</td>\n",
       "      <td>False</td>\n",
       "    </tr>\n",
       "    <tr>\n",
       "      <th>3749808</th>\n",
       "      <td>False</td>\n",
       "      <td>False</td>\n",
       "      <td>False</td>\n",
       "      <td>False</td>\n",
       "      <td>False</td>\n",
       "      <td>False</td>\n",
       "      <td>False</td>\n",
       "      <td>False</td>\n",
       "    </tr>\n",
       "    <tr>\n",
       "      <th>3749822</th>\n",
       "      <td>False</td>\n",
       "      <td>False</td>\n",
       "      <td>False</td>\n",
       "      <td>False</td>\n",
       "      <td>False</td>\n",
       "      <td>False</td>\n",
       "      <td>False</td>\n",
       "      <td>False</td>\n",
       "    </tr>\n",
       "  </tbody>\n",
       "</table>\n",
       "<p>151196 rows × 8 columns</p>\n",
       "</div>"
      ],
      "text/plain": [
       "            Id  OwnerUserId  CreationDate  ClosedDate  Score  Title   Body  \\\n",
       "3        False        False         False       False  False  False  False   \n",
       "4        False        False         False       False  False  False  False   \n",
       "5        False        False         False       False  False  False  False   \n",
       "6        False        False         False       False  False  False  False   \n",
       "22       False        False         False       False  False  False  False   \n",
       "...        ...          ...           ...         ...    ...    ...    ...   \n",
       "3749781  False        False         False       False  False  False  False   \n",
       "3749782  False        False         False       False  False  False  False   \n",
       "3749783  False        False         False       False  False  False  False   \n",
       "3749808  False        False         False       False  False  False  False   \n",
       "3749822  False        False         False       False  False  False  False   \n",
       "\n",
       "           tag  \n",
       "3        False  \n",
       "4        False  \n",
       "5        False  \n",
       "6        False  \n",
       "22       False  \n",
       "...        ...  \n",
       "3749781  False  \n",
       "3749782  False  \n",
       "3749783  False  \n",
       "3749808  False  \n",
       "3749822  False  \n",
       "\n",
       "[151196 rows x 8 columns]"
      ]
     },
     "execution_count": 51,
     "metadata": {},
     "output_type": "execute_result"
    }
   ],
   "source": [
    "que_wd_tags.isnull()"
   ]
  },
  {
   "cell_type": "code",
   "execution_count": 52,
   "metadata": {
    "id": "AvYTQ_ZFhrc0"
   },
   "outputs": [],
   "source": [
    "que_wd_tags.ClosedDate =que_wd_tags.ClosedDate.astype(\"datetime64\") "
   ]
  },
  {
   "cell_type": "code",
   "execution_count": 94,
   "metadata": {
    "id": "DCOrQ65HiT6b"
   },
   "outputs": [],
   "source": [
    "que_wd_tags['query_resolved_time']= que_wd_tags.ClosedDate- que_wd_tags.CreationDate"
   ]
  },
  {
   "cell_type": "code",
   "execution_count": 95,
   "metadata": {
    "colab": {
     "base_uri": "https://localhost:8080/",
     "height": 279
    },
    "id": "btlcfTK6i2gt",
    "outputId": "c5342c2d-d491-467a-9d8d-0e141eef7d39"
   },
   "outputs": [
    {
     "data": {
      "text/html": [
       "<div>\n",
       "<style scoped>\n",
       "    .dataframe tbody tr th:only-of-type {\n",
       "        vertical-align: middle;\n",
       "    }\n",
       "\n",
       "    .dataframe tbody tr th {\n",
       "        vertical-align: top;\n",
       "    }\n",
       "\n",
       "    .dataframe thead th {\n",
       "        text-align: right;\n",
       "    }\n",
       "</style>\n",
       "<table border=\"1\" class=\"dataframe\">\n",
       "  <thead>\n",
       "    <tr style=\"text-align: right;\">\n",
       "      <th></th>\n",
       "      <th>Id</th>\n",
       "      <th>OwnerUserId</th>\n",
       "      <th>CreationDate</th>\n",
       "      <th>ClosedDate</th>\n",
       "      <th>Score</th>\n",
       "      <th>Title</th>\n",
       "      <th>Body</th>\n",
       "      <th>tag</th>\n",
       "      <th>query_resolved_time</th>\n",
       "    </tr>\n",
       "  </thead>\n",
       "  <tbody>\n",
       "    <tr>\n",
       "      <th>3</th>\n",
       "      <td>90</td>\n",
       "      <td>58.0</td>\n",
       "      <td>2008-08-01 14:41:24</td>\n",
       "      <td>2012-12-26 03:45:49</td>\n",
       "      <td>144</td>\n",
       "      <td>Good branching and merging tutorials for Torto...</td>\n",
       "      <td>&lt;p&gt;Are there any really good tutorials explain...</td>\n",
       "      <td>svn</td>\n",
       "      <td>1607 days 13:04:25</td>\n",
       "    </tr>\n",
       "    <tr>\n",
       "      <th>4</th>\n",
       "      <td>90</td>\n",
       "      <td>58.0</td>\n",
       "      <td>2008-08-01 14:41:24</td>\n",
       "      <td>2012-12-26 03:45:49</td>\n",
       "      <td>144</td>\n",
       "      <td>Good branching and merging tutorials for Torto...</td>\n",
       "      <td>&lt;p&gt;Are there any really good tutorials explain...</td>\n",
       "      <td>tortoisesvn</td>\n",
       "      <td>1607 days 13:04:25</td>\n",
       "    </tr>\n",
       "    <tr>\n",
       "      <th>5</th>\n",
       "      <td>90</td>\n",
       "      <td>58.0</td>\n",
       "      <td>2008-08-01 14:41:24</td>\n",
       "      <td>2012-12-26 03:45:49</td>\n",
       "      <td>144</td>\n",
       "      <td>Good branching and merging tutorials for Torto...</td>\n",
       "      <td>&lt;p&gt;Are there any really good tutorials explain...</td>\n",
       "      <td>branch</td>\n",
       "      <td>1607 days 13:04:25</td>\n",
       "    </tr>\n",
       "    <tr>\n",
       "      <th>6</th>\n",
       "      <td>90</td>\n",
       "      <td>58.0</td>\n",
       "      <td>2008-08-01 14:41:24</td>\n",
       "      <td>2012-12-26 03:45:49</td>\n",
       "      <td>144</td>\n",
       "      <td>Good branching and merging tutorials for Torto...</td>\n",
       "      <td>&lt;p&gt;Are there any really good tutorials explain...</td>\n",
       "      <td>branching-and-merging</td>\n",
       "      <td>1607 days 13:04:25</td>\n",
       "    </tr>\n",
       "    <tr>\n",
       "      <th>22</th>\n",
       "      <td>470</td>\n",
       "      <td>71.0</td>\n",
       "      <td>2008-08-02 15:11:47</td>\n",
       "      <td>2016-03-26 05:23:29</td>\n",
       "      <td>13</td>\n",
       "      <td>Homegrown consumption of web services</td>\n",
       "      <td>&lt;p&gt;I've been writing a few web services for a ...</td>\n",
       "      <td>.net</td>\n",
       "      <td>2792 days 14:11:42</td>\n",
       "    </tr>\n",
       "  </tbody>\n",
       "</table>\n",
       "</div>"
      ],
      "text/plain": [
       "     Id  OwnerUserId        CreationDate          ClosedDate  Score  \\\n",
       "3    90         58.0 2008-08-01 14:41:24 2012-12-26 03:45:49    144   \n",
       "4    90         58.0 2008-08-01 14:41:24 2012-12-26 03:45:49    144   \n",
       "5    90         58.0 2008-08-01 14:41:24 2012-12-26 03:45:49    144   \n",
       "6    90         58.0 2008-08-01 14:41:24 2012-12-26 03:45:49    144   \n",
       "22  470         71.0 2008-08-02 15:11:47 2016-03-26 05:23:29     13   \n",
       "\n",
       "                                                Title  \\\n",
       "3   Good branching and merging tutorials for Torto...   \n",
       "4   Good branching and merging tutorials for Torto...   \n",
       "5   Good branching and merging tutorials for Torto...   \n",
       "6   Good branching and merging tutorials for Torto...   \n",
       "22              Homegrown consumption of web services   \n",
       "\n",
       "                                                 Body                    tag  \\\n",
       "3   <p>Are there any really good tutorials explain...                    svn   \n",
       "4   <p>Are there any really good tutorials explain...            tortoisesvn   \n",
       "5   <p>Are there any really good tutorials explain...                 branch   \n",
       "6   <p>Are there any really good tutorials explain...  branching-and-merging   \n",
       "22  <p>I've been writing a few web services for a ...                   .net   \n",
       "\n",
       "   query_resolved_time  \n",
       "3   1607 days 13:04:25  \n",
       "4   1607 days 13:04:25  \n",
       "5   1607 days 13:04:25  \n",
       "6   1607 days 13:04:25  \n",
       "22  2792 days 14:11:42  "
      ]
     },
     "execution_count": 95,
     "metadata": {},
     "output_type": "execute_result"
    }
   ],
   "source": [
    "que_wd_tags.head()"
   ]
  },
  {
   "cell_type": "code",
   "execution_count": 96,
   "metadata": {
    "id": "O9hT9F0VkFwu"
   },
   "outputs": [],
   "source": [
    "estimated_time = pd.pivot_table(que_wd_tags, index =['tag', 'query_resolved_time'])"
   ]
  },
  {
   "cell_type": "code",
   "execution_count": 97,
   "metadata": {
    "colab": {
     "base_uri": "https://localhost:8080/",
     "height": 431
    },
    "id": "7_xzktnHq-nk",
    "outputId": "5bf0994a-8d49-4c0c-dab2-2e6b8c98116b"
   },
   "outputs": [
    {
     "data": {
      "text/html": [
       "<div>\n",
       "<style scoped>\n",
       "    .dataframe tbody tr th:only-of-type {\n",
       "        vertical-align: middle;\n",
       "    }\n",
       "\n",
       "    .dataframe tbody tr th {\n",
       "        vertical-align: top;\n",
       "    }\n",
       "\n",
       "    .dataframe thead th {\n",
       "        text-align: right;\n",
       "    }\n",
       "</style>\n",
       "<table border=\"1\" class=\"dataframe\">\n",
       "  <thead>\n",
       "    <tr style=\"text-align: right;\">\n",
       "      <th></th>\n",
       "      <th></th>\n",
       "      <th>Id</th>\n",
       "      <th>OwnerUserId</th>\n",
       "      <th>Score</th>\n",
       "    </tr>\n",
       "    <tr>\n",
       "      <th>tag</th>\n",
       "      <th>query_resolved_time</th>\n",
       "      <th></th>\n",
       "      <th></th>\n",
       "      <th></th>\n",
       "    </tr>\n",
       "  </thead>\n",
       "  <tbody>\n",
       "    <tr>\n",
       "      <th rowspan=\"4\" valign=\"top\">.bash-profile</th>\n",
       "      <th>0 days 00:15:30</th>\n",
       "      <td>11692100.0</td>\n",
       "      <td>1197913.0</td>\n",
       "      <td>9.0</td>\n",
       "    </tr>\n",
       "    <tr>\n",
       "      <th>0 days 01:14:12</th>\n",
       "      <td>34553370.0</td>\n",
       "      <td>2469559.0</td>\n",
       "      <td>3.0</td>\n",
       "    </tr>\n",
       "    <tr>\n",
       "      <th>0 days 06:41:51</th>\n",
       "      <td>29959480.0</td>\n",
       "      <td>3025403.0</td>\n",
       "      <td>-1.0</td>\n",
       "    </tr>\n",
       "    <tr>\n",
       "      <th>0 days 12:22:14</th>\n",
       "      <td>38055550.0</td>\n",
       "      <td>3305546.0</td>\n",
       "      <td>-2.0</td>\n",
       "    </tr>\n",
       "    <tr>\n",
       "      <th>.class-file</th>\n",
       "      <th>0 days 07:36:11</th>\n",
       "      <td>39947580.0</td>\n",
       "      <td>6945958.0</td>\n",
       "      <td>-3.0</td>\n",
       "    </tr>\n",
       "    <tr>\n",
       "      <th>...</th>\n",
       "      <th>...</th>\n",
       "      <td>...</td>\n",
       "      <td>...</td>\n",
       "      <td>...</td>\n",
       "    </tr>\n",
       "    <tr>\n",
       "      <th rowspan=\"5\" valign=\"top\">zxing</th>\n",
       "      <th>1 days 13:36:55</th>\n",
       "      <td>21582440.0</td>\n",
       "      <td>3274952.0</td>\n",
       "      <td>-1.0</td>\n",
       "    </tr>\n",
       "    <tr>\n",
       "      <th>10 days 22:21:22</th>\n",
       "      <td>17780940.0</td>\n",
       "      <td>2591002.0</td>\n",
       "      <td>-5.0</td>\n",
       "    </tr>\n",
       "    <tr>\n",
       "      <th>177 days 20:43:19</th>\n",
       "      <td>5902850.0</td>\n",
       "      <td>731944.0</td>\n",
       "      <td>3.0</td>\n",
       "    </tr>\n",
       "    <tr>\n",
       "      <th>435 days 06:26:05</th>\n",
       "      <td>31556400.0</td>\n",
       "      <td>2110347.0</td>\n",
       "      <td>-2.0</td>\n",
       "    </tr>\n",
       "    <tr>\n",
       "      <th>689 days 06:07:00</th>\n",
       "      <td>8116990.0</td>\n",
       "      <td>115781.0</td>\n",
       "      <td>30.0</td>\n",
       "    </tr>\n",
       "  </tbody>\n",
       "</table>\n",
       "<p>146165 rows × 3 columns</p>\n",
       "</div>"
      ],
      "text/plain": [
       "                                           Id  OwnerUserId  Score\n",
       "tag           query_resolved_time                                \n",
       ".bash-profile 0 days 00:15:30      11692100.0    1197913.0    9.0\n",
       "              0 days 01:14:12      34553370.0    2469559.0    3.0\n",
       "              0 days 06:41:51      29959480.0    3025403.0   -1.0\n",
       "              0 days 12:22:14      38055550.0    3305546.0   -2.0\n",
       ".class-file   0 days 07:36:11      39947580.0    6945958.0   -3.0\n",
       "...                                       ...          ...    ...\n",
       "zxing         1 days 13:36:55      21582440.0    3274952.0   -1.0\n",
       "              10 days 22:21:22     17780940.0    2591002.0   -5.0\n",
       "              177 days 20:43:19     5902850.0     731944.0    3.0\n",
       "              435 days 06:26:05    31556400.0    2110347.0   -2.0\n",
       "              689 days 06:07:00     8116990.0     115781.0   30.0\n",
       "\n",
       "[146165 rows x 3 columns]"
      ]
     },
     "execution_count": 97,
     "metadata": {},
     "output_type": "execute_result"
    }
   ],
   "source": [
    "estimated_time"
   ]
  },
  {
   "cell_type": "code",
   "execution_count": 98,
   "metadata": {
    "colab": {
     "base_uri": "https://localhost:8080/"
    },
    "id": "sENvv9-2rAUh",
    "outputId": "0e04f68b-c4dc-4322-fb20-415a9e7e06c3"
   },
   "outputs": [
    {
     "data": {
      "text/plain": [
       "Id             146165\n",
       "OwnerUserId    146165\n",
       "Score          146165\n",
       "dtype: int64"
      ]
     },
     "execution_count": 98,
     "metadata": {},
     "output_type": "execute_result"
    }
   ],
   "source": [
    "estimated_time.count()"
   ]
  },
  {
   "cell_type": "code",
   "execution_count": 99,
   "metadata": {
    "id": "sumn8LSYtAcK"
   },
   "outputs": [],
   "source": [
    "new= estimated_time.reset_index()\n"
   ]
  },
  {
   "cell_type": "code",
   "execution_count": 100,
   "metadata": {},
   "outputs": [],
   "source": [
    "answer_time =  estimated_time.reset_index()"
   ]
  },
  {
   "cell_type": "code",
   "execution_count": 101,
   "metadata": {},
   "outputs": [
    {
     "data": {
      "text/html": [
       "<div>\n",
       "<style scoped>\n",
       "    .dataframe tbody tr th:only-of-type {\n",
       "        vertical-align: middle;\n",
       "    }\n",
       "\n",
       "    .dataframe tbody tr th {\n",
       "        vertical-align: top;\n",
       "    }\n",
       "\n",
       "    .dataframe thead th {\n",
       "        text-align: right;\n",
       "    }\n",
       "</style>\n",
       "<table border=\"1\" class=\"dataframe\">\n",
       "  <thead>\n",
       "    <tr style=\"text-align: right;\">\n",
       "      <th></th>\n",
       "      <th>tag</th>\n",
       "      <th>query_resolved_time</th>\n",
       "      <th>Id</th>\n",
       "      <th>OwnerUserId</th>\n",
       "      <th>Score</th>\n",
       "    </tr>\n",
       "  </thead>\n",
       "  <tbody>\n",
       "    <tr>\n",
       "      <th>0</th>\n",
       "      <td>.bash-profile</td>\n",
       "      <td>0 days 00:15:30</td>\n",
       "      <td>11692100.0</td>\n",
       "      <td>1197913.0</td>\n",
       "      <td>9.0</td>\n",
       "    </tr>\n",
       "    <tr>\n",
       "      <th>1</th>\n",
       "      <td>.bash-profile</td>\n",
       "      <td>0 days 01:14:12</td>\n",
       "      <td>34553370.0</td>\n",
       "      <td>2469559.0</td>\n",
       "      <td>3.0</td>\n",
       "    </tr>\n",
       "    <tr>\n",
       "      <th>2</th>\n",
       "      <td>.bash-profile</td>\n",
       "      <td>0 days 06:41:51</td>\n",
       "      <td>29959480.0</td>\n",
       "      <td>3025403.0</td>\n",
       "      <td>-1.0</td>\n",
       "    </tr>\n",
       "    <tr>\n",
       "      <th>3</th>\n",
       "      <td>.bash-profile</td>\n",
       "      <td>0 days 12:22:14</td>\n",
       "      <td>38055550.0</td>\n",
       "      <td>3305546.0</td>\n",
       "      <td>-2.0</td>\n",
       "    </tr>\n",
       "    <tr>\n",
       "      <th>4</th>\n",
       "      <td>.class-file</td>\n",
       "      <td>0 days 07:36:11</td>\n",
       "      <td>39947580.0</td>\n",
       "      <td>6945958.0</td>\n",
       "      <td>-3.0</td>\n",
       "    </tr>\n",
       "    <tr>\n",
       "      <th>...</th>\n",
       "      <td>...</td>\n",
       "      <td>...</td>\n",
       "      <td>...</td>\n",
       "      <td>...</td>\n",
       "      <td>...</td>\n",
       "    </tr>\n",
       "    <tr>\n",
       "      <th>146160</th>\n",
       "      <td>zxing</td>\n",
       "      <td>1 days 13:36:55</td>\n",
       "      <td>21582440.0</td>\n",
       "      <td>3274952.0</td>\n",
       "      <td>-1.0</td>\n",
       "    </tr>\n",
       "    <tr>\n",
       "      <th>146161</th>\n",
       "      <td>zxing</td>\n",
       "      <td>10 days 22:21:22</td>\n",
       "      <td>17780940.0</td>\n",
       "      <td>2591002.0</td>\n",
       "      <td>-5.0</td>\n",
       "    </tr>\n",
       "    <tr>\n",
       "      <th>146162</th>\n",
       "      <td>zxing</td>\n",
       "      <td>177 days 20:43:19</td>\n",
       "      <td>5902850.0</td>\n",
       "      <td>731944.0</td>\n",
       "      <td>3.0</td>\n",
       "    </tr>\n",
       "    <tr>\n",
       "      <th>146163</th>\n",
       "      <td>zxing</td>\n",
       "      <td>435 days 06:26:05</td>\n",
       "      <td>31556400.0</td>\n",
       "      <td>2110347.0</td>\n",
       "      <td>-2.0</td>\n",
       "    </tr>\n",
       "    <tr>\n",
       "      <th>146164</th>\n",
       "      <td>zxing</td>\n",
       "      <td>689 days 06:07:00</td>\n",
       "      <td>8116990.0</td>\n",
       "      <td>115781.0</td>\n",
       "      <td>30.0</td>\n",
       "    </tr>\n",
       "  </tbody>\n",
       "</table>\n",
       "<p>146165 rows × 5 columns</p>\n",
       "</div>"
      ],
      "text/plain": [
       "                  tag query_resolved_time          Id  OwnerUserId  Score\n",
       "0       .bash-profile     0 days 00:15:30  11692100.0    1197913.0    9.0\n",
       "1       .bash-profile     0 days 01:14:12  34553370.0    2469559.0    3.0\n",
       "2       .bash-profile     0 days 06:41:51  29959480.0    3025403.0   -1.0\n",
       "3       .bash-profile     0 days 12:22:14  38055550.0    3305546.0   -2.0\n",
       "4         .class-file     0 days 07:36:11  39947580.0    6945958.0   -3.0\n",
       "...               ...                 ...         ...          ...    ...\n",
       "146160          zxing     1 days 13:36:55  21582440.0    3274952.0   -1.0\n",
       "146161          zxing    10 days 22:21:22  17780940.0    2591002.0   -5.0\n",
       "146162          zxing   177 days 20:43:19   5902850.0     731944.0    3.0\n",
       "146163          zxing   435 days 06:26:05  31556400.0    2110347.0   -2.0\n",
       "146164          zxing   689 days 06:07:00   8116990.0     115781.0   30.0\n",
       "\n",
       "[146165 rows x 5 columns]"
      ]
     },
     "execution_count": 101,
     "metadata": {},
     "output_type": "execute_result"
    }
   ],
   "source": [
    "answer_time"
   ]
  },
  {
   "cell_type": "code",
   "execution_count": 102,
   "metadata": {},
   "outputs": [],
   "source": [
    "answer_time = answer_time.drop(['Id', 'OwnerUserId', 'Score'], axis=1)"
   ]
  },
  {
   "cell_type": "code",
   "execution_count": 104,
   "metadata": {},
   "outputs": [
    {
     "data": {
      "text/html": [
       "<div>\n",
       "<style scoped>\n",
       "    .dataframe tbody tr th:only-of-type {\n",
       "        vertical-align: middle;\n",
       "    }\n",
       "\n",
       "    .dataframe tbody tr th {\n",
       "        vertical-align: top;\n",
       "    }\n",
       "\n",
       "    .dataframe thead th {\n",
       "        text-align: right;\n",
       "    }\n",
       "</style>\n",
       "<table border=\"1\" class=\"dataframe\">\n",
       "  <thead>\n",
       "    <tr style=\"text-align: right;\">\n",
       "      <th></th>\n",
       "      <th>tag</th>\n",
       "      <th>query_resolved_time</th>\n",
       "    </tr>\n",
       "  </thead>\n",
       "  <tbody>\n",
       "    <tr>\n",
       "      <th>0</th>\n",
       "      <td>.bash-profile</td>\n",
       "      <td>0 days 00:15:30</td>\n",
       "    </tr>\n",
       "    <tr>\n",
       "      <th>1</th>\n",
       "      <td>.bash-profile</td>\n",
       "      <td>0 days 01:14:12</td>\n",
       "    </tr>\n",
       "    <tr>\n",
       "      <th>2</th>\n",
       "      <td>.bash-profile</td>\n",
       "      <td>0 days 06:41:51</td>\n",
       "    </tr>\n",
       "    <tr>\n",
       "      <th>3</th>\n",
       "      <td>.bash-profile</td>\n",
       "      <td>0 days 12:22:14</td>\n",
       "    </tr>\n",
       "    <tr>\n",
       "      <th>4</th>\n",
       "      <td>.class-file</td>\n",
       "      <td>0 days 07:36:11</td>\n",
       "    </tr>\n",
       "    <tr>\n",
       "      <th>...</th>\n",
       "      <td>...</td>\n",
       "      <td>...</td>\n",
       "    </tr>\n",
       "    <tr>\n",
       "      <th>146160</th>\n",
       "      <td>zxing</td>\n",
       "      <td>1 days 13:36:55</td>\n",
       "    </tr>\n",
       "    <tr>\n",
       "      <th>146161</th>\n",
       "      <td>zxing</td>\n",
       "      <td>10 days 22:21:22</td>\n",
       "    </tr>\n",
       "    <tr>\n",
       "      <th>146162</th>\n",
       "      <td>zxing</td>\n",
       "      <td>177 days 20:43:19</td>\n",
       "    </tr>\n",
       "    <tr>\n",
       "      <th>146163</th>\n",
       "      <td>zxing</td>\n",
       "      <td>435 days 06:26:05</td>\n",
       "    </tr>\n",
       "    <tr>\n",
       "      <th>146164</th>\n",
       "      <td>zxing</td>\n",
       "      <td>689 days 06:07:00</td>\n",
       "    </tr>\n",
       "  </tbody>\n",
       "</table>\n",
       "<p>146165 rows × 2 columns</p>\n",
       "</div>"
      ],
      "text/plain": [
       "                  tag query_resolved_time\n",
       "0       .bash-profile     0 days 00:15:30\n",
       "1       .bash-profile     0 days 01:14:12\n",
       "2       .bash-profile     0 days 06:41:51\n",
       "3       .bash-profile     0 days 12:22:14\n",
       "4         .class-file     0 days 07:36:11\n",
       "...               ...                 ...\n",
       "146160          zxing     1 days 13:36:55\n",
       "146161          zxing    10 days 22:21:22\n",
       "146162          zxing   177 days 20:43:19\n",
       "146163          zxing   435 days 06:26:05\n",
       "146164          zxing   689 days 06:07:00\n",
       "\n",
       "[146165 rows x 2 columns]"
      ]
     },
     "execution_count": 104,
     "metadata": {},
     "output_type": "execute_result"
    }
   ],
   "source": [
    "\n",
    " answer_time"
   ]
  },
  {
   "cell_type": "code",
   "execution_count": 85,
   "metadata": {},
   "outputs": [
    {
     "name": "stdout",
     "output_type": "stream",
     "text": [
      "<class 'pandas.core.frame.DataFrame'>\n",
      "RangeIndex: 146165 entries, 0 to 146164\n",
      "Data columns (total 2 columns):\n",
      " #   Column               Non-Null Count   Dtype          \n",
      "---  ------               --------------   -----          \n",
      " 0   tag                  146165 non-null  object         \n",
      " 1   query_resolved_time  146165 non-null  timedelta64[ns]\n",
      "dtypes: object(1), timedelta64[ns](1)\n",
      "memory usage: 2.2+ MB\n"
     ]
    }
   ],
   "source": [
    "answer_time.info()"
   ]
  },
  {
   "cell_type": "code",
   "execution_count": 74,
   "metadata": {},
   "outputs": [
    {
     "ename": "DataError",
     "evalue": "No numeric types to aggregate",
     "output_type": "error",
     "traceback": [
      "\u001b[1;31m---------------------------------------------------------------------------\u001b[0m",
      "\u001b[1;31mDataError\u001b[0m                                 Traceback (most recent call last)",
      "\u001b[1;32m<ipython-input-74-eec3b3a33416>\u001b[0m in \u001b[0;36m<module>\u001b[1;34m\u001b[0m\n\u001b[1;32m----> 1\u001b[1;33m \u001b[0mavg_closetime\u001b[0m \u001b[1;33m=\u001b[0m \u001b[0manswer_time\u001b[0m\u001b[1;33m.\u001b[0m\u001b[0mgroupby\u001b[0m\u001b[1;33m(\u001b[0m\u001b[1;34m'tag'\u001b[0m\u001b[1;33m)\u001b[0m\u001b[1;33m[\u001b[0m\u001b[1;34m'query_resolved_time'\u001b[0m\u001b[1;33m]\u001b[0m\u001b[1;33m.\u001b[0m\u001b[0mmean\u001b[0m\u001b[1;33m(\u001b[0m\u001b[1;33m)\u001b[0m\u001b[1;33m.\u001b[0m\u001b[0msort_values\u001b[0m\u001b[1;33m(\u001b[0m\u001b[0mascending\u001b[0m \u001b[1;33m=\u001b[0m \u001b[1;32mFalse\u001b[0m\u001b[1;33m)\u001b[0m\u001b[1;33m[\u001b[0m\u001b[1;33m:\u001b[0m\u001b[1;36m10\u001b[0m\u001b[1;33m]\u001b[0m\u001b[1;33m\u001b[0m\u001b[1;33m\u001b[0m\u001b[0m\n\u001b[0m\u001b[0;32m      2\u001b[0m \u001b[0mavg_ct_highest10\u001b[0m \u001b[1;33m=\u001b[0m \u001b[0mavg_closetime\u001b[0m\u001b[1;33m.\u001b[0m\u001b[0mto_frame\u001b[0m\u001b[1;33m(\u001b[0m\u001b[1;33m)\u001b[0m\u001b[1;33m\u001b[0m\u001b[1;33m\u001b[0m\u001b[0m\n\u001b[0;32m      3\u001b[0m \u001b[0mavg_ct_highest10\u001b[0m\u001b[1;33m\u001b[0m\u001b[1;33m\u001b[0m\u001b[0m\n",
      "\u001b[1;32m~\\anaconda3\\lib\\site-packages\\pandas\\core\\groupby\\groupby.py\u001b[0m in \u001b[0;36mmean\u001b[1;34m(self, numeric_only)\u001b[0m\n\u001b[0;32m   1391\u001b[0m         \u001b[0mName\u001b[0m\u001b[1;33m:\u001b[0m \u001b[0mB\u001b[0m\u001b[1;33m,\u001b[0m \u001b[0mdtype\u001b[0m\u001b[1;33m:\u001b[0m \u001b[0mfloat64\u001b[0m\u001b[1;33m\u001b[0m\u001b[1;33m\u001b[0m\u001b[0m\n\u001b[0;32m   1392\u001b[0m         \"\"\"\n\u001b[1;32m-> 1393\u001b[1;33m         return self._cython_agg_general(\n\u001b[0m\u001b[0;32m   1394\u001b[0m             \u001b[1;34m\"mean\"\u001b[0m\u001b[1;33m,\u001b[0m\u001b[1;33m\u001b[0m\u001b[1;33m\u001b[0m\u001b[0m\n\u001b[0;32m   1395\u001b[0m             \u001b[0malt\u001b[0m\u001b[1;33m=\u001b[0m\u001b[1;32mlambda\u001b[0m \u001b[0mx\u001b[0m\u001b[1;33m,\u001b[0m \u001b[0maxis\u001b[0m\u001b[1;33m:\u001b[0m \u001b[0mSeries\u001b[0m\u001b[1;33m(\u001b[0m\u001b[0mx\u001b[0m\u001b[1;33m)\u001b[0m\u001b[1;33m.\u001b[0m\u001b[0mmean\u001b[0m\u001b[1;33m(\u001b[0m\u001b[0mnumeric_only\u001b[0m\u001b[1;33m=\u001b[0m\u001b[0mnumeric_only\u001b[0m\u001b[1;33m)\u001b[0m\u001b[1;33m,\u001b[0m\u001b[1;33m\u001b[0m\u001b[1;33m\u001b[0m\u001b[0m\n",
      "\u001b[1;32m~\\anaconda3\\lib\\site-packages\\pandas\\core\\groupby\\groupby.py\u001b[0m in \u001b[0;36m_cython_agg_general\u001b[1;34m(self, how, alt, numeric_only, min_count)\u001b[0m\n\u001b[0;32m   1049\u001b[0m \u001b[1;33m\u001b[0m\u001b[0m\n\u001b[0;32m   1050\u001b[0m         \u001b[1;32mif\u001b[0m \u001b[0mlen\u001b[0m\u001b[1;33m(\u001b[0m\u001b[0moutput\u001b[0m\u001b[1;33m)\u001b[0m \u001b[1;33m==\u001b[0m \u001b[1;36m0\u001b[0m\u001b[1;33m:\u001b[0m\u001b[1;33m\u001b[0m\u001b[1;33m\u001b[0m\u001b[0m\n\u001b[1;32m-> 1051\u001b[1;33m             \u001b[1;32mraise\u001b[0m \u001b[0mDataError\u001b[0m\u001b[1;33m(\u001b[0m\u001b[1;34m\"No numeric types to aggregate\"\u001b[0m\u001b[1;33m)\u001b[0m\u001b[1;33m\u001b[0m\u001b[1;33m\u001b[0m\u001b[0m\n\u001b[0m\u001b[0;32m   1052\u001b[0m \u001b[1;33m\u001b[0m\u001b[0m\n\u001b[0;32m   1053\u001b[0m         \u001b[1;32mreturn\u001b[0m \u001b[0mself\u001b[0m\u001b[1;33m.\u001b[0m\u001b[0m_wrap_aggregated_output\u001b[0m\u001b[1;33m(\u001b[0m\u001b[0moutput\u001b[0m\u001b[1;33m,\u001b[0m \u001b[0mindex\u001b[0m\u001b[1;33m=\u001b[0m\u001b[0mself\u001b[0m\u001b[1;33m.\u001b[0m\u001b[0mgrouper\u001b[0m\u001b[1;33m.\u001b[0m\u001b[0mresult_index\u001b[0m\u001b[1;33m)\u001b[0m\u001b[1;33m\u001b[0m\u001b[1;33m\u001b[0m\u001b[0m\n",
      "\u001b[1;31mDataError\u001b[0m: No numeric types to aggregate"
     ]
    }
   ],
   "source": [
    "avg_closetime = answer_time.groupby('tag')['query_resolved_time'].mean().sort_values(ascending = False)[:10]\n",
    "avg_ct_highest10 = avg_closetime.to_frame()\n",
    "avg_ct_highest10"
   ]
  },
  {
   "cell_type": "markdown",
   "metadata": {
    "id": "a99Klnnds_De"
   },
   "source": [
    "## Analyasis for sending notification to the right user\n"
   ]
  },
  {
   "cell_type": "code",
   "execution_count": 59,
   "metadata": {
    "colab": {
     "base_uri": "https://localhost:8080/"
    },
    "id": "P0yYw6mprzf0",
    "outputId": "75c72e18-85d5-4ebf-868e-f7aca54df6ee"
   },
   "outputs": [
    {
     "data": {
      "text/plain": [
       "Id              2001316\n",
       "OwnerUserId     2001316\n",
       "CreationDate    2001316\n",
       "ParentId        2001316\n",
       "Score           2001316\n",
       "Body            2001316\n",
       "cre_date        2001316\n",
       "cre_time        2001316\n",
       "dtype: int64"
      ]
     },
     "execution_count": 59,
     "metadata": {},
     "output_type": "execute_result"
    }
   ],
   "source": [
    "ans.count()"
   ]
  },
  {
   "cell_type": "code",
   "execution_count": 60,
   "metadata": {
    "id": "_kW0eq1vsN2q"
   },
   "outputs": [],
   "source": [
    "new = new.rename(columns={\"Id\": \"QueId\",\"OwnerUserId\":\"Que_OwnerUserId\" ,\"Score\":\"que_Score\"})\n",
    "ans = ans.rename(columns={\"Id\": \"AnsId\",\"ParentId\":\"QueId\" ,\"OwnerUserId\":\"Ans_OwnerUserId\",\"Score\":\"ans_Score\"})\n"
   ]
  },
  {
   "cell_type": "code",
   "execution_count": 61,
   "metadata": {
    "colab": {
     "base_uri": "https://localhost:8080/"
    },
    "id": "Ux9_tvYKs8ca",
    "outputId": "6df4dcdb-0527-415a-b794-71996161776a"
   },
   "outputs": [
    {
     "name": "stderr",
     "output_type": "stream",
     "text": [
      "C:\\Users\\MONIC\\anaconda3\\lib\\site-packages\\pandas\\core\\reshape\\merge.py:1113: UserWarning: You are merging on int and float columns where the float values are not equal to their int representation\n",
      "  warnings.warn(\n"
     ]
    }
   ],
   "source": [
    "notification = pd.merge(\n",
    "    new,ans\n",
    "    )"
   ]
  },
  {
   "cell_type": "code",
   "execution_count": 62,
   "metadata": {
    "colab": {
     "base_uri": "https://localhost:8080/"
    },
    "id": "k2DFIQ7it00d",
    "outputId": "7d5dd13f-0daf-4745-ed3b-8e81d52bb0c5"
   },
   "outputs": [
    {
     "data": {
      "text/plain": [
       "tag                             object\n",
       "query_resolved_time    timedelta64[ns]\n",
       "QueId                          float64\n",
       "Que_OwnerUserId                float64\n",
       "que_Score                      float64\n",
       "dtype: object"
      ]
     },
     "execution_count": 62,
     "metadata": {},
     "output_type": "execute_result"
    }
   ],
   "source": [
    "new.dtypes"
   ]
  },
  {
   "cell_type": "code",
   "execution_count": 63,
   "metadata": {
    "colab": {
     "base_uri": "https://localhost:8080/"
    },
    "id": "yoXD2AwCt8sU",
    "outputId": "83268777-aa0b-4307-fde5-8be05e61f621"
   },
   "outputs": [
    {
     "data": {
      "text/plain": [
       "AnsId                       int64\n",
       "Ans_OwnerUserId           float64\n",
       "CreationDate       datetime64[ns]\n",
       "QueId                       int64\n",
       "ans_Score                   int64\n",
       "Body                       object\n",
       "cre_date                   object\n",
       "cre_time                   object\n",
       "dtype: object"
      ]
     },
     "execution_count": 63,
     "metadata": {},
     "output_type": "execute_result"
    }
   ],
   "source": [
    "ans.dtypes"
   ]
  },
  {
   "cell_type": "code",
   "execution_count": 64,
   "metadata": {
    "id": "tmQO498Ht_ji"
   },
   "outputs": [],
   "source": [
    "new.QueId =new.QueId.astype(\"int64\") "
   ]
  },
  {
   "cell_type": "code",
   "execution_count": null,
   "metadata": {
    "id": "TVwBcnXuutUE"
   },
   "outputs": [],
   "source": []
  },
  {
   "cell_type": "code",
   "execution_count": 65,
   "metadata": {
    "colab": {
     "base_uri": "https://localhost:8080/"
    },
    "id": "q-4h3zaHudS-",
    "outputId": "4dddb4b7-8a5c-4048-eb63-aba7a35f6be1"
   },
   "outputs": [
    {
     "data": {
      "text/plain": [
       "tag                             object\n",
       "query_resolved_time    timedelta64[ns]\n",
       "QueId                            int64\n",
       "Que_OwnerUserId                float64\n",
       "que_Score                      float64\n",
       "dtype: object"
      ]
     },
     "execution_count": 65,
     "metadata": {},
     "output_type": "execute_result"
    }
   ],
   "source": [
    "new.dtypes"
   ]
  },
  {
   "cell_type": "code",
   "execution_count": 66,
   "metadata": {
    "id": "RRL3NfvyuVK1"
   },
   "outputs": [],
   "source": [
    "notification = pd.merge(\n",
    "    new,ans\n",
    "    )"
   ]
  },
  {
   "cell_type": "code",
   "execution_count": 67,
   "metadata": {
    "colab": {
     "base_uri": "https://localhost:8080/",
     "height": 279
    },
    "id": "MSJltWICuYf3",
    "outputId": "030ce6e9-aeb3-4e60-adc1-1345ebcd40dd"
   },
   "outputs": [
    {
     "data": {
      "text/html": [
       "<div>\n",
       "<style scoped>\n",
       "    .dataframe tbody tr th:only-of-type {\n",
       "        vertical-align: middle;\n",
       "    }\n",
       "\n",
       "    .dataframe tbody tr th {\n",
       "        vertical-align: top;\n",
       "    }\n",
       "\n",
       "    .dataframe thead th {\n",
       "        text-align: right;\n",
       "    }\n",
       "</style>\n",
       "<table border=\"1\" class=\"dataframe\">\n",
       "  <thead>\n",
       "    <tr style=\"text-align: right;\">\n",
       "      <th></th>\n",
       "      <th>tag</th>\n",
       "      <th>query_resolved_time</th>\n",
       "      <th>QueId</th>\n",
       "      <th>Que_OwnerUserId</th>\n",
       "      <th>que_Score</th>\n",
       "      <th>AnsId</th>\n",
       "      <th>Ans_OwnerUserId</th>\n",
       "      <th>CreationDate</th>\n",
       "      <th>ans_Score</th>\n",
       "      <th>Body</th>\n",
       "      <th>cre_date</th>\n",
       "      <th>cre_time</th>\n",
       "    </tr>\n",
       "  </thead>\n",
       "  <tbody>\n",
       "    <tr>\n",
       "      <th>0</th>\n",
       "      <td>.bash-profile</td>\n",
       "      <td>0 days 00:15:30</td>\n",
       "      <td>11692100</td>\n",
       "      <td>1197913.0</td>\n",
       "      <td>9.0</td>\n",
       "      <td>11692139</td>\n",
       "      <td>382892.0</td>\n",
       "      <td>2012-07-27 16:44:37</td>\n",
       "      <td>11</td>\n",
       "      <td>&lt;p&gt;You need to open it with sudo.&lt;/p&gt;\\n\\n&lt;pre&gt;...</td>\n",
       "      <td>2012-07-27</td>\n",
       "      <td>16:44:37</td>\n",
       "    </tr>\n",
       "    <tr>\n",
       "      <th>1</th>\n",
       "      <td>alias</td>\n",
       "      <td>0 days 00:15:30</td>\n",
       "      <td>11692100</td>\n",
       "      <td>1197913.0</td>\n",
       "      <td>9.0</td>\n",
       "      <td>11692139</td>\n",
       "      <td>382892.0</td>\n",
       "      <td>2012-07-27 16:44:37</td>\n",
       "      <td>11</td>\n",
       "      <td>&lt;p&gt;You need to open it with sudo.&lt;/p&gt;\\n\\n&lt;pre&gt;...</td>\n",
       "      <td>2012-07-27</td>\n",
       "      <td>16:44:37</td>\n",
       "    </tr>\n",
       "    <tr>\n",
       "      <th>2</th>\n",
       "      <td>osx</td>\n",
       "      <td>0 days 00:15:30</td>\n",
       "      <td>11692100</td>\n",
       "      <td>1197913.0</td>\n",
       "      <td>9.0</td>\n",
       "      <td>11692139</td>\n",
       "      <td>382892.0</td>\n",
       "      <td>2012-07-27 16:44:37</td>\n",
       "      <td>11</td>\n",
       "      <td>&lt;p&gt;You need to open it with sudo.&lt;/p&gt;\\n\\n&lt;pre&gt;...</td>\n",
       "      <td>2012-07-27</td>\n",
       "      <td>16:44:37</td>\n",
       "    </tr>\n",
       "    <tr>\n",
       "      <th>3</th>\n",
       "      <td>osx-snow-leopard</td>\n",
       "      <td>0 days 00:15:30</td>\n",
       "      <td>11692100</td>\n",
       "      <td>1197913.0</td>\n",
       "      <td>9.0</td>\n",
       "      <td>11692139</td>\n",
       "      <td>382892.0</td>\n",
       "      <td>2012-07-27 16:44:37</td>\n",
       "      <td>11</td>\n",
       "      <td>&lt;p&gt;You need to open it with sudo.&lt;/p&gt;\\n\\n&lt;pre&gt;...</td>\n",
       "      <td>2012-07-27</td>\n",
       "      <td>16:44:37</td>\n",
       "    </tr>\n",
       "    <tr>\n",
       "      <th>4</th>\n",
       "      <td>permissions</td>\n",
       "      <td>0 days 00:15:30</td>\n",
       "      <td>11692100</td>\n",
       "      <td>1197913.0</td>\n",
       "      <td>9.0</td>\n",
       "      <td>11692139</td>\n",
       "      <td>382892.0</td>\n",
       "      <td>2012-07-27 16:44:37</td>\n",
       "      <td>11</td>\n",
       "      <td>&lt;p&gt;You need to open it with sudo.&lt;/p&gt;\\n\\n&lt;pre&gt;...</td>\n",
       "      <td>2012-07-27</td>\n",
       "      <td>16:44:37</td>\n",
       "    </tr>\n",
       "  </tbody>\n",
       "</table>\n",
       "</div>"
      ],
      "text/plain": [
       "                tag query_resolved_time     QueId  Que_OwnerUserId  que_Score  \\\n",
       "0     .bash-profile     0 days 00:15:30  11692100        1197913.0        9.0   \n",
       "1             alias     0 days 00:15:30  11692100        1197913.0        9.0   \n",
       "2               osx     0 days 00:15:30  11692100        1197913.0        9.0   \n",
       "3  osx-snow-leopard     0 days 00:15:30  11692100        1197913.0        9.0   \n",
       "4       permissions     0 days 00:15:30  11692100        1197913.0        9.0   \n",
       "\n",
       "      AnsId  Ans_OwnerUserId        CreationDate  ans_Score  \\\n",
       "0  11692139         382892.0 2012-07-27 16:44:37         11   \n",
       "1  11692139         382892.0 2012-07-27 16:44:37         11   \n",
       "2  11692139         382892.0 2012-07-27 16:44:37         11   \n",
       "3  11692139         382892.0 2012-07-27 16:44:37         11   \n",
       "4  11692139         382892.0 2012-07-27 16:44:37         11   \n",
       "\n",
       "                                                Body    cre_date  cre_time  \n",
       "0  <p>You need to open it with sudo.</p>\\n\\n<pre>...  2012-07-27  16:44:37  \n",
       "1  <p>You need to open it with sudo.</p>\\n\\n<pre>...  2012-07-27  16:44:37  \n",
       "2  <p>You need to open it with sudo.</p>\\n\\n<pre>...  2012-07-27  16:44:37  \n",
       "3  <p>You need to open it with sudo.</p>\\n\\n<pre>...  2012-07-27  16:44:37  \n",
       "4  <p>You need to open it with sudo.</p>\\n\\n<pre>...  2012-07-27  16:44:37  "
      ]
     },
     "execution_count": 67,
     "metadata": {},
     "output_type": "execute_result"
    }
   ],
   "source": [
    "notification.head()"
   ]
  },
  {
   "cell_type": "code",
   "execution_count": 68,
   "metadata": {
    "colab": {
     "base_uri": "https://localhost:8080/"
    },
    "id": "6UjT6uxnuzZ4",
    "outputId": "e1d59247-c93d-4053-e16a-a90ebd1612fe"
   },
   "outputs": [
    {
     "name": "stdout",
     "output_type": "stream",
     "text": [
      "<class 'pandas.core.frame.DataFrame'>\n",
      "Int64Index: 247418 entries, 0 to 247417\n",
      "Data columns (total 12 columns):\n",
      " #   Column               Non-Null Count   Dtype          \n",
      "---  ------               --------------   -----          \n",
      " 0   tag                  247418 non-null  object         \n",
      " 1   query_resolved_time  247418 non-null  timedelta64[ns]\n",
      " 2   QueId                247418 non-null  int64          \n",
      " 3   Que_OwnerUserId      247418 non-null  float64        \n",
      " 4   que_Score            247418 non-null  float64        \n",
      " 5   AnsId                247418 non-null  int64          \n",
      " 6   Ans_OwnerUserId      247418 non-null  float64        \n",
      " 7   CreationDate         247418 non-null  datetime64[ns] \n",
      " 8   ans_Score            247418 non-null  int64          \n",
      " 9   Body                 247418 non-null  object         \n",
      " 10  cre_date             247418 non-null  object         \n",
      " 11  cre_time             247418 non-null  object         \n",
      "dtypes: datetime64[ns](1), float64(3), int64(3), object(4), timedelta64[ns](1)\n",
      "memory usage: 24.5+ MB\n"
     ]
    }
   ],
   "source": [
    "notification.info()"
   ]
  },
  {
   "cell_type": "code",
   "execution_count": 69,
   "metadata": {
    "colab": {
     "base_uri": "https://localhost:8080/",
     "height": 195
    },
    "id": "5MznHvRqu-Tx",
    "outputId": "a6f7238e-4c5e-4803-93be-0d7e58ec2bb0"
   },
   "outputs": [
    {
     "data": {
      "text/html": [
       "<div>\n",
       "<style scoped>\n",
       "    .dataframe tbody tr th:only-of-type {\n",
       "        vertical-align: middle;\n",
       "    }\n",
       "\n",
       "    .dataframe tbody tr th {\n",
       "        vertical-align: top;\n",
       "    }\n",
       "\n",
       "    .dataframe thead th {\n",
       "        text-align: right;\n",
       "    }\n",
       "</style>\n",
       "<table border=\"1\" class=\"dataframe\">\n",
       "  <thead>\n",
       "    <tr style=\"text-align: right;\">\n",
       "      <th></th>\n",
       "      <th>tag</th>\n",
       "      <th>query_resolved_time</th>\n",
       "      <th>que_Score</th>\n",
       "      <th>Ans_OwnerUserId</th>\n",
       "      <th>CreationDate</th>\n",
       "      <th>ans_Score</th>\n",
       "    </tr>\n",
       "  </thead>\n",
       "  <tbody>\n",
       "    <tr>\n",
       "      <th>0</th>\n",
       "      <td>.bash-profile</td>\n",
       "      <td>0 days 00:15:30</td>\n",
       "      <td>9.0</td>\n",
       "      <td>382892.0</td>\n",
       "      <td>2012-07-27 16:44:37</td>\n",
       "      <td>11</td>\n",
       "    </tr>\n",
       "    <tr>\n",
       "      <th>1</th>\n",
       "      <td>alias</td>\n",
       "      <td>0 days 00:15:30</td>\n",
       "      <td>9.0</td>\n",
       "      <td>382892.0</td>\n",
       "      <td>2012-07-27 16:44:37</td>\n",
       "      <td>11</td>\n",
       "    </tr>\n",
       "    <tr>\n",
       "      <th>2</th>\n",
       "      <td>osx</td>\n",
       "      <td>0 days 00:15:30</td>\n",
       "      <td>9.0</td>\n",
       "      <td>382892.0</td>\n",
       "      <td>2012-07-27 16:44:37</td>\n",
       "      <td>11</td>\n",
       "    </tr>\n",
       "    <tr>\n",
       "      <th>3</th>\n",
       "      <td>osx-snow-leopard</td>\n",
       "      <td>0 days 00:15:30</td>\n",
       "      <td>9.0</td>\n",
       "      <td>382892.0</td>\n",
       "      <td>2012-07-27 16:44:37</td>\n",
       "      <td>11</td>\n",
       "    </tr>\n",
       "    <tr>\n",
       "      <th>4</th>\n",
       "      <td>permissions</td>\n",
       "      <td>0 days 00:15:30</td>\n",
       "      <td>9.0</td>\n",
       "      <td>382892.0</td>\n",
       "      <td>2012-07-27 16:44:37</td>\n",
       "      <td>11</td>\n",
       "    </tr>\n",
       "  </tbody>\n",
       "</table>\n",
       "</div>"
      ],
      "text/plain": [
       "                tag query_resolved_time  que_Score  Ans_OwnerUserId  \\\n",
       "0     .bash-profile     0 days 00:15:30        9.0         382892.0   \n",
       "1             alias     0 days 00:15:30        9.0         382892.0   \n",
       "2               osx     0 days 00:15:30        9.0         382892.0   \n",
       "3  osx-snow-leopard     0 days 00:15:30        9.0         382892.0   \n",
       "4       permissions     0 days 00:15:30        9.0         382892.0   \n",
       "\n",
       "         CreationDate  ans_Score  \n",
       "0 2012-07-27 16:44:37         11  \n",
       "1 2012-07-27 16:44:37         11  \n",
       "2 2012-07-27 16:44:37         11  \n",
       "3 2012-07-27 16:44:37         11  \n",
       "4 2012-07-27 16:44:37         11  "
      ]
     },
     "execution_count": 69,
     "metadata": {},
     "output_type": "execute_result"
    }
   ],
   "source": [
    "notification = notification.drop(['QueId', 'Que_OwnerUserId', 'AnsId', 'Body', 'cre_date', 'cre_time'], axis=1)\n",
    "notification.head(5)"
   ]
  },
  {
   "cell_type": "code",
   "execution_count": 70,
   "metadata": {
    "id": "I5QxcHvRwSyl"
   },
   "outputs": [],
   "source": [
    "notification = pd.pivot_table(notification, index =['tag', 'query_resolved_time'])"
   ]
  },
  {
   "cell_type": "code",
   "execution_count": 71,
   "metadata": {
    "colab": {
     "base_uri": "https://localhost:8080/",
     "height": 431
    },
    "id": "-7yEJfY-xr_L",
    "outputId": "2e33972c-4986-4db1-a49e-c2020d2929e7"
   },
   "outputs": [
    {
     "data": {
      "text/html": [
       "<div>\n",
       "<style scoped>\n",
       "    .dataframe tbody tr th:only-of-type {\n",
       "        vertical-align: middle;\n",
       "    }\n",
       "\n",
       "    .dataframe tbody tr th {\n",
       "        vertical-align: top;\n",
       "    }\n",
       "\n",
       "    .dataframe thead th {\n",
       "        text-align: right;\n",
       "    }\n",
       "</style>\n",
       "<table border=\"1\" class=\"dataframe\">\n",
       "  <thead>\n",
       "    <tr style=\"text-align: right;\">\n",
       "      <th></th>\n",
       "      <th></th>\n",
       "      <th>Ans_OwnerUserId</th>\n",
       "      <th>ans_Score</th>\n",
       "      <th>que_Score</th>\n",
       "    </tr>\n",
       "    <tr>\n",
       "      <th>tag</th>\n",
       "      <th>query_resolved_time</th>\n",
       "      <th></th>\n",
       "      <th></th>\n",
       "      <th></th>\n",
       "    </tr>\n",
       "  </thead>\n",
       "  <tbody>\n",
       "    <tr>\n",
       "      <th rowspan=\"4\" valign=\"top\">.bash-profile</th>\n",
       "      <th>0 days 00:15:30</th>\n",
       "      <td>382892.0</td>\n",
       "      <td>11.0</td>\n",
       "      <td>9.0</td>\n",
       "    </tr>\n",
       "    <tr>\n",
       "      <th>0 days 01:14:12</th>\n",
       "      <td>897295.0</td>\n",
       "      <td>0.0</td>\n",
       "      <td>3.0</td>\n",
       "    </tr>\n",
       "    <tr>\n",
       "      <th>0 days 06:41:51</th>\n",
       "      <td>3914755.5</td>\n",
       "      <td>0.5</td>\n",
       "      <td>-1.0</td>\n",
       "    </tr>\n",
       "    <tr>\n",
       "      <th>0 days 12:22:14</th>\n",
       "      <td>2393256.0</td>\n",
       "      <td>1.0</td>\n",
       "      <td>-2.0</td>\n",
       "    </tr>\n",
       "    <tr>\n",
       "      <th>.class-file</th>\n",
       "      <th>0 days 07:36:11</th>\n",
       "      <td>3788176.0</td>\n",
       "      <td>2.0</td>\n",
       "      <td>-3.0</td>\n",
       "    </tr>\n",
       "    <tr>\n",
       "      <th>...</th>\n",
       "      <th>...</th>\n",
       "      <td>...</td>\n",
       "      <td>...</td>\n",
       "      <td>...</td>\n",
       "    </tr>\n",
       "    <tr>\n",
       "      <th rowspan=\"5\" valign=\"top\">zxing</th>\n",
       "      <th>1 days 13:36:55</th>\n",
       "      <td>3276260.0</td>\n",
       "      <td>0.0</td>\n",
       "      <td>-1.0</td>\n",
       "    </tr>\n",
       "    <tr>\n",
       "      <th>10 days 22:21:22</th>\n",
       "      <td>995926.0</td>\n",
       "      <td>2.0</td>\n",
       "      <td>-5.0</td>\n",
       "    </tr>\n",
       "    <tr>\n",
       "      <th>177 days 20:43:19</th>\n",
       "      <td>435954.5</td>\n",
       "      <td>1.5</td>\n",
       "      <td>3.0</td>\n",
       "    </tr>\n",
       "    <tr>\n",
       "      <th>435 days 06:26:05</th>\n",
       "      <td>1723242.8</td>\n",
       "      <td>-0.2</td>\n",
       "      <td>-2.0</td>\n",
       "    </tr>\n",
       "    <tr>\n",
       "      <th>689 days 06:07:00</th>\n",
       "      <td>1341198.0</td>\n",
       "      <td>4.8</td>\n",
       "      <td>30.0</td>\n",
       "    </tr>\n",
       "  </tbody>\n",
       "</table>\n",
       "<p>121104 rows × 3 columns</p>\n",
       "</div>"
      ],
      "text/plain": [
       "                                   Ans_OwnerUserId  ans_Score  que_Score\n",
       "tag           query_resolved_time                                       \n",
       ".bash-profile 0 days 00:15:30             382892.0       11.0        9.0\n",
       "              0 days 01:14:12             897295.0        0.0        3.0\n",
       "              0 days 06:41:51            3914755.5        0.5       -1.0\n",
       "              0 days 12:22:14            2393256.0        1.0       -2.0\n",
       ".class-file   0 days 07:36:11            3788176.0        2.0       -3.0\n",
       "...                                            ...        ...        ...\n",
       "zxing         1 days 13:36:55            3276260.0        0.0       -1.0\n",
       "              10 days 22:21:22            995926.0        2.0       -5.0\n",
       "              177 days 20:43:19           435954.5        1.5        3.0\n",
       "              435 days 06:26:05          1723242.8       -0.2       -2.0\n",
       "              689 days 06:07:00          1341198.0        4.8       30.0\n",
       "\n",
       "[121104 rows x 3 columns]"
      ]
     },
     "execution_count": 71,
     "metadata": {},
     "output_type": "execute_result"
    }
   ],
   "source": [
    "notification"
   ]
  },
  {
   "cell_type": "code",
   "execution_count": null,
   "metadata": {
    "id": "MJFziKbrxtWt"
   },
   "outputs": [],
   "source": [
    "notification = "
   ]
  },
  {
   "cell_type": "code",
   "execution_count": null,
   "metadata": {},
   "outputs": [],
   "source": []
  },
  {
   "cell_type": "code",
   "execution_count": null,
   "metadata": {},
   "outputs": [],
   "source": []
  },
  {
   "cell_type": "code",
   "execution_count": null,
   "metadata": {},
   "outputs": [],
   "source": []
  },
  {
   "cell_type": "code",
   "execution_count": null,
   "metadata": {},
   "outputs": [],
   "source": []
  },
  {
   "cell_type": "code",
   "execution_count": null,
   "metadata": {},
   "outputs": [],
   "source": []
  },
  {
   "cell_type": "code",
   "execution_count": null,
   "metadata": {},
   "outputs": [],
   "source": []
  }
 ],
 "metadata": {
  "colab": {
   "name": "EDA.ipynb",
   "provenance": []
  },
  "kernelspec": {
   "display_name": "Python 3",
   "language": "python",
   "name": "python3"
  },
  "language_info": {
   "codemirror_mode": {
    "name": "ipython",
    "version": 3
   },
   "file_extension": ".py",
   "mimetype": "text/x-python",
   "name": "python",
   "nbconvert_exporter": "python",
   "pygments_lexer": "ipython3",
   "version": "3.8.5"
  }
 },
 "nbformat": 4,
 "nbformat_minor": 1
}
